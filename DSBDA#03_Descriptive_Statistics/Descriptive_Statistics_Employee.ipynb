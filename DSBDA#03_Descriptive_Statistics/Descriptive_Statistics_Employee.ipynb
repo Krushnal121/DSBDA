{
 "cells": [
  {
   "cell_type": "code",
   "execution_count": 1,
   "id": "initial_id",
   "metadata": {
    "collapsed": true,
    "ExecuteTime": {
     "end_time": "2024-02-16T03:35:59.671197400Z",
     "start_time": "2024-02-16T03:35:59.632047Z"
    }
   },
   "outputs": [],
   "source": [
    "import pandas as pd\n",
    "import numpy as np\n",
    "import seaborn as sns"
   ]
  },
  {
   "cell_type": "code",
   "outputs": [],
   "source": [
    "df = pd.read_csv(\"Employee.csv\")"
   ],
   "metadata": {
    "collapsed": false,
    "ExecuteTime": {
     "end_time": "2024-02-16T03:36:32.249834200Z",
     "start_time": "2024-02-16T03:36:32.230915900Z"
    }
   },
   "id": "c7210112d136995d",
   "execution_count": 2
  },
  {
   "cell_type": "code",
   "outputs": [
    {
     "data": {
      "text/plain": "    Age  Gender Education Level          Job Title  Years of Experience  \\\n0  32.0    Male      Bachelor's  Software Engineer                  5.0   \n1  28.0  Female        Master's       Data Analyst                  3.0   \n2  45.0    Male             PhD     Senior Manager                 15.0   \n3  36.0  Female      Bachelor's    Sales Associate                  7.0   \n4  52.0    Male        Master's           Director                 20.0   \n\n     Salary  \n0   90000.0  \n1   65000.0  \n2  150000.0  \n3   60000.0  \n4  200000.0  ",
      "text/html": "<div>\n<style scoped>\n    .dataframe tbody tr th:only-of-type {\n        vertical-align: middle;\n    }\n\n    .dataframe tbody tr th {\n        vertical-align: top;\n    }\n\n    .dataframe thead th {\n        text-align: right;\n    }\n</style>\n<table border=\"1\" class=\"dataframe\">\n  <thead>\n    <tr style=\"text-align: right;\">\n      <th></th>\n      <th>Age</th>\n      <th>Gender</th>\n      <th>Education Level</th>\n      <th>Job Title</th>\n      <th>Years of Experience</th>\n      <th>Salary</th>\n    </tr>\n  </thead>\n  <tbody>\n    <tr>\n      <th>0</th>\n      <td>32.0</td>\n      <td>Male</td>\n      <td>Bachelor's</td>\n      <td>Software Engineer</td>\n      <td>5.0</td>\n      <td>90000.0</td>\n    </tr>\n    <tr>\n      <th>1</th>\n      <td>28.0</td>\n      <td>Female</td>\n      <td>Master's</td>\n      <td>Data Analyst</td>\n      <td>3.0</td>\n      <td>65000.0</td>\n    </tr>\n    <tr>\n      <th>2</th>\n      <td>45.0</td>\n      <td>Male</td>\n      <td>PhD</td>\n      <td>Senior Manager</td>\n      <td>15.0</td>\n      <td>150000.0</td>\n    </tr>\n    <tr>\n      <th>3</th>\n      <td>36.0</td>\n      <td>Female</td>\n      <td>Bachelor's</td>\n      <td>Sales Associate</td>\n      <td>7.0</td>\n      <td>60000.0</td>\n    </tr>\n    <tr>\n      <th>4</th>\n      <td>52.0</td>\n      <td>Male</td>\n      <td>Master's</td>\n      <td>Director</td>\n      <td>20.0</td>\n      <td>200000.0</td>\n    </tr>\n  </tbody>\n</table>\n</div>"
     },
     "execution_count": 3,
     "metadata": {},
     "output_type": "execute_result"
    }
   ],
   "source": [
    "df.head()"
   ],
   "metadata": {
    "collapsed": false,
    "ExecuteTime": {
     "end_time": "2024-02-16T03:36:47.393299100Z",
     "start_time": "2024-02-16T03:36:47.358052700Z"
    }
   },
   "id": "a08790b021126280",
   "execution_count": 3
  },
  {
   "cell_type": "code",
   "outputs": [
    {
     "data": {
      "text/plain": "      Age  Gender Education Level                      Job Title  \\\n370  35.0  Female      Bachelor's       Senior Marketing Analyst   \n371  43.0    Male        Master's         Director of Operations   \n372  29.0  Female      Bachelor's         Junior Project Manager   \n373  34.0    Male      Bachelor's  Senior Operations Coordinator   \n374  44.0  Female             PhD        Senior Business Analyst   \n\n     Years of Experience    Salary  \n370                  8.0   85000.0  \n371                 19.0  170000.0  \n372                  2.0   40000.0  \n373                  7.0   90000.0  \n374                 15.0  150000.0  ",
      "text/html": "<div>\n<style scoped>\n    .dataframe tbody tr th:only-of-type {\n        vertical-align: middle;\n    }\n\n    .dataframe tbody tr th {\n        vertical-align: top;\n    }\n\n    .dataframe thead th {\n        text-align: right;\n    }\n</style>\n<table border=\"1\" class=\"dataframe\">\n  <thead>\n    <tr style=\"text-align: right;\">\n      <th></th>\n      <th>Age</th>\n      <th>Gender</th>\n      <th>Education Level</th>\n      <th>Job Title</th>\n      <th>Years of Experience</th>\n      <th>Salary</th>\n    </tr>\n  </thead>\n  <tbody>\n    <tr>\n      <th>370</th>\n      <td>35.0</td>\n      <td>Female</td>\n      <td>Bachelor's</td>\n      <td>Senior Marketing Analyst</td>\n      <td>8.0</td>\n      <td>85000.0</td>\n    </tr>\n    <tr>\n      <th>371</th>\n      <td>43.0</td>\n      <td>Male</td>\n      <td>Master's</td>\n      <td>Director of Operations</td>\n      <td>19.0</td>\n      <td>170000.0</td>\n    </tr>\n    <tr>\n      <th>372</th>\n      <td>29.0</td>\n      <td>Female</td>\n      <td>Bachelor's</td>\n      <td>Junior Project Manager</td>\n      <td>2.0</td>\n      <td>40000.0</td>\n    </tr>\n    <tr>\n      <th>373</th>\n      <td>34.0</td>\n      <td>Male</td>\n      <td>Bachelor's</td>\n      <td>Senior Operations Coordinator</td>\n      <td>7.0</td>\n      <td>90000.0</td>\n    </tr>\n    <tr>\n      <th>374</th>\n      <td>44.0</td>\n      <td>Female</td>\n      <td>PhD</td>\n      <td>Senior Business Analyst</td>\n      <td>15.0</td>\n      <td>150000.0</td>\n    </tr>\n  </tbody>\n</table>\n</div>"
     },
     "execution_count": 4,
     "metadata": {},
     "output_type": "execute_result"
    }
   ],
   "source": [
    "df.tail()"
   ],
   "metadata": {
    "collapsed": false,
    "ExecuteTime": {
     "end_time": "2024-02-16T03:37:09.482293800Z",
     "start_time": "2024-02-16T03:37:09.402840100Z"
    }
   },
   "id": "8065ae5bbb93bdfb",
   "execution_count": 4
  },
  {
   "cell_type": "code",
   "outputs": [
    {
     "data": {
      "text/plain": "       Age  Gender  Education Level  Job Title  Years of Experience  Salary\n0    False   False            False      False                False   False\n1    False   False            False      False                False   False\n2    False   False            False      False                False   False\n3    False   False            False      False                False   False\n4    False   False            False      False                False   False\n..     ...     ...              ...        ...                  ...     ...\n370  False   False            False      False                False   False\n371  False   False            False      False                False   False\n372  False   False            False      False                False   False\n373  False   False            False      False                False   False\n374  False   False            False      False                False   False\n\n[375 rows x 6 columns]",
      "text/html": "<div>\n<style scoped>\n    .dataframe tbody tr th:only-of-type {\n        vertical-align: middle;\n    }\n\n    .dataframe tbody tr th {\n        vertical-align: top;\n    }\n\n    .dataframe thead th {\n        text-align: right;\n    }\n</style>\n<table border=\"1\" class=\"dataframe\">\n  <thead>\n    <tr style=\"text-align: right;\">\n      <th></th>\n      <th>Age</th>\n      <th>Gender</th>\n      <th>Education Level</th>\n      <th>Job Title</th>\n      <th>Years of Experience</th>\n      <th>Salary</th>\n    </tr>\n  </thead>\n  <tbody>\n    <tr>\n      <th>0</th>\n      <td>False</td>\n      <td>False</td>\n      <td>False</td>\n      <td>False</td>\n      <td>False</td>\n      <td>False</td>\n    </tr>\n    <tr>\n      <th>1</th>\n      <td>False</td>\n      <td>False</td>\n      <td>False</td>\n      <td>False</td>\n      <td>False</td>\n      <td>False</td>\n    </tr>\n    <tr>\n      <th>2</th>\n      <td>False</td>\n      <td>False</td>\n      <td>False</td>\n      <td>False</td>\n      <td>False</td>\n      <td>False</td>\n    </tr>\n    <tr>\n      <th>3</th>\n      <td>False</td>\n      <td>False</td>\n      <td>False</td>\n      <td>False</td>\n      <td>False</td>\n      <td>False</td>\n    </tr>\n    <tr>\n      <th>4</th>\n      <td>False</td>\n      <td>False</td>\n      <td>False</td>\n      <td>False</td>\n      <td>False</td>\n      <td>False</td>\n    </tr>\n    <tr>\n      <th>...</th>\n      <td>...</td>\n      <td>...</td>\n      <td>...</td>\n      <td>...</td>\n      <td>...</td>\n      <td>...</td>\n    </tr>\n    <tr>\n      <th>370</th>\n      <td>False</td>\n      <td>False</td>\n      <td>False</td>\n      <td>False</td>\n      <td>False</td>\n      <td>False</td>\n    </tr>\n    <tr>\n      <th>371</th>\n      <td>False</td>\n      <td>False</td>\n      <td>False</td>\n      <td>False</td>\n      <td>False</td>\n      <td>False</td>\n    </tr>\n    <tr>\n      <th>372</th>\n      <td>False</td>\n      <td>False</td>\n      <td>False</td>\n      <td>False</td>\n      <td>False</td>\n      <td>False</td>\n    </tr>\n    <tr>\n      <th>373</th>\n      <td>False</td>\n      <td>False</td>\n      <td>False</td>\n      <td>False</td>\n      <td>False</td>\n      <td>False</td>\n    </tr>\n    <tr>\n      <th>374</th>\n      <td>False</td>\n      <td>False</td>\n      <td>False</td>\n      <td>False</td>\n      <td>False</td>\n      <td>False</td>\n    </tr>\n  </tbody>\n</table>\n<p>375 rows × 6 columns</p>\n</div>"
     },
     "execution_count": 5,
     "metadata": {},
     "output_type": "execute_result"
    }
   ],
   "source": [
    "df.isnull()"
   ],
   "metadata": {
    "collapsed": false,
    "ExecuteTime": {
     "end_time": "2024-02-16T03:37:46.231738500Z",
     "start_time": "2024-02-16T03:37:46.180829600Z"
    }
   },
   "id": "97a1c4f492fb90e0",
   "execution_count": 5
  },
  {
   "cell_type": "code",
   "outputs": [
    {
     "data": {
      "text/plain": "Age                    float64\nGender                  object\nEducation Level         object\nJob Title               object\nYears of Experience    float64\nSalary                 float64\ndtype: object"
     },
     "execution_count": 6,
     "metadata": {},
     "output_type": "execute_result"
    }
   ],
   "source": [
    "df.dtypes"
   ],
   "metadata": {
    "collapsed": false,
    "ExecuteTime": {
     "end_time": "2024-02-16T03:38:10.644997800Z",
     "start_time": "2024-02-16T03:38:10.563858800Z"
    }
   },
   "id": "4eaf4fd118daa01a",
   "execution_count": 6
  },
  {
   "cell_type": "code",
   "outputs": [
    {
     "data": {
      "text/plain": "count    373.000000\nmean      37.431635\nstd        7.069073\nmin       23.000000\n25%       31.000000\n50%       36.000000\n75%       44.000000\nmax       53.000000\nName: Age, dtype: float64"
     },
     "execution_count": 7,
     "metadata": {},
     "output_type": "execute_result"
    }
   ],
   "source": [
    "df.Age.describe()"
   ],
   "metadata": {
    "collapsed": false,
    "ExecuteTime": {
     "end_time": "2024-02-16T03:49:32.123641300Z",
     "start_time": "2024-02-16T03:49:32.083820500Z"
    }
   },
   "id": "38b0ff2651ea892c",
   "execution_count": 7
  },
  {
   "cell_type": "code",
   "outputs": [],
   "source": [
    "def categorize_age(age):\n",
    "    if 20 <= age < 25:\n",
    "        return \"A\"\n",
    "    elif 25 <= age < 30:\n",
    "        return \"B\"\n",
    "    elif 30 <= age < 35:\n",
    "        return \"C\"\n",
    "    elif 35 <= age < 40:\n",
    "        return \"D\"\n",
    "    elif 40 <= age < 45:\n",
    "        return \"E\"\n",
    "    elif 45 <= age < 50:\n",
    "        return \"F\"\n",
    "    elif 50 <= age <= 55:\n",
    "        return \"G\"\n",
    "    else:\n",
    "        return \"Invalid Age\""
   ],
   "metadata": {
    "collapsed": false,
    "ExecuteTime": {
     "end_time": "2024-02-16T04:10:45.583671600Z",
     "start_time": "2024-02-16T04:10:45.571996500Z"
    }
   },
   "id": "dd750f8bde45b463",
   "execution_count": 9
  },
  {
   "cell_type": "code",
   "outputs": [],
   "source": [
    "df[\"Age Group\"] = df[\"Age\"].apply(categorize_age)"
   ],
   "metadata": {
    "collapsed": false,
    "ExecuteTime": {
     "end_time": "2024-02-16T04:12:04.305343700Z",
     "start_time": "2024-02-16T04:12:04.262009900Z"
    }
   },
   "id": "cea676c2551f9bac",
   "execution_count": 10
  },
  {
   "cell_type": "code",
   "outputs": [
    {
     "data": {
      "text/plain": "    Age  Gender Education Level          Job Title  Years of Experience  \\\n0  32.0    Male      Bachelor's  Software Engineer                  5.0   \n1  28.0  Female        Master's       Data Analyst                  3.0   \n2  45.0    Male             PhD     Senior Manager                 15.0   \n3  36.0  Female      Bachelor's    Sales Associate                  7.0   \n4  52.0    Male        Master's           Director                 20.0   \n\n     Salary Age Group  \n0   90000.0         C  \n1   65000.0         B  \n2  150000.0         F  \n3   60000.0         D  \n4  200000.0         G  ",
      "text/html": "<div>\n<style scoped>\n    .dataframe tbody tr th:only-of-type {\n        vertical-align: middle;\n    }\n\n    .dataframe tbody tr th {\n        vertical-align: top;\n    }\n\n    .dataframe thead th {\n        text-align: right;\n    }\n</style>\n<table border=\"1\" class=\"dataframe\">\n  <thead>\n    <tr style=\"text-align: right;\">\n      <th></th>\n      <th>Age</th>\n      <th>Gender</th>\n      <th>Education Level</th>\n      <th>Job Title</th>\n      <th>Years of Experience</th>\n      <th>Salary</th>\n      <th>Age Group</th>\n    </tr>\n  </thead>\n  <tbody>\n    <tr>\n      <th>0</th>\n      <td>32.0</td>\n      <td>Male</td>\n      <td>Bachelor's</td>\n      <td>Software Engineer</td>\n      <td>5.0</td>\n      <td>90000.0</td>\n      <td>C</td>\n    </tr>\n    <tr>\n      <th>1</th>\n      <td>28.0</td>\n      <td>Female</td>\n      <td>Master's</td>\n      <td>Data Analyst</td>\n      <td>3.0</td>\n      <td>65000.0</td>\n      <td>B</td>\n    </tr>\n    <tr>\n      <th>2</th>\n      <td>45.0</td>\n      <td>Male</td>\n      <td>PhD</td>\n      <td>Senior Manager</td>\n      <td>15.0</td>\n      <td>150000.0</td>\n      <td>F</td>\n    </tr>\n    <tr>\n      <th>3</th>\n      <td>36.0</td>\n      <td>Female</td>\n      <td>Bachelor's</td>\n      <td>Sales Associate</td>\n      <td>7.0</td>\n      <td>60000.0</td>\n      <td>D</td>\n    </tr>\n    <tr>\n      <th>4</th>\n      <td>52.0</td>\n      <td>Male</td>\n      <td>Master's</td>\n      <td>Director</td>\n      <td>20.0</td>\n      <td>200000.0</td>\n      <td>G</td>\n    </tr>\n  </tbody>\n</table>\n</div>"
     },
     "execution_count": 11,
     "metadata": {},
     "output_type": "execute_result"
    }
   ],
   "source": [
    "df.head()"
   ],
   "metadata": {
    "collapsed": false,
    "ExecuteTime": {
     "end_time": "2024-02-16T04:12:13.798847400Z",
     "start_time": "2024-02-16T04:12:13.763393Z"
    }
   },
   "id": "a4db1a0b7d93b95b",
   "execution_count": 11
  },
  {
   "cell_type": "code",
   "outputs": [],
   "source": [
    "group=df.groupby('Age Group')"
   ],
   "metadata": {
    "collapsed": false,
    "ExecuteTime": {
     "end_time": "2024-02-16T04:37:02.069984500Z",
     "start_time": "2024-02-16T04:37:02.057955100Z"
    }
   },
   "id": "6514ae8045d6fcd6",
   "execution_count": 16
  },
  {
   "cell_type": "code",
   "outputs": [
    {
     "data": {
      "text/plain": "      Age  Gender Education Level                 Job Title  \\\n27   24.0    Male      Bachelor's          Junior Developer   \n114  23.0  Female      Bachelor's  Junior Marketing Analyst   \n\n     Years of Experience   Salary Age Group  \n27                   1.0  40000.0         A  \n114                  0.5  35000.0         A  ",
      "text/html": "<div>\n<style scoped>\n    .dataframe tbody tr th:only-of-type {\n        vertical-align: middle;\n    }\n\n    .dataframe tbody tr th {\n        vertical-align: top;\n    }\n\n    .dataframe thead th {\n        text-align: right;\n    }\n</style>\n<table border=\"1\" class=\"dataframe\">\n  <thead>\n    <tr style=\"text-align: right;\">\n      <th></th>\n      <th>Age</th>\n      <th>Gender</th>\n      <th>Education Level</th>\n      <th>Job Title</th>\n      <th>Years of Experience</th>\n      <th>Salary</th>\n      <th>Age Group</th>\n    </tr>\n  </thead>\n  <tbody>\n    <tr>\n      <th>27</th>\n      <td>24.0</td>\n      <td>Male</td>\n      <td>Bachelor's</td>\n      <td>Junior Developer</td>\n      <td>1.0</td>\n      <td>40000.0</td>\n      <td>A</td>\n    </tr>\n    <tr>\n      <th>114</th>\n      <td>23.0</td>\n      <td>Female</td>\n      <td>Bachelor's</td>\n      <td>Junior Marketing Analyst</td>\n      <td>0.5</td>\n      <td>35000.0</td>\n      <td>A</td>\n    </tr>\n  </tbody>\n</table>\n</div>"
     },
     "execution_count": 18,
     "metadata": {},
     "output_type": "execute_result"
    }
   ],
   "source": [
    "Group_A=group.get_group('A')\n",
    "Group_A"
   ],
   "metadata": {
    "collapsed": false,
    "ExecuteTime": {
     "end_time": "2024-02-16T04:37:15.776488700Z",
     "start_time": "2024-02-16T04:37:15.762633800Z"
    }
   },
   "id": "9031d13264f0c925",
   "execution_count": 18
  },
  {
   "cell_type": "code",
   "outputs": [
    {
     "data": {
      "text/plain": "<Axes: >"
     },
     "execution_count": 21,
     "metadata": {},
     "output_type": "execute_result"
    },
    {
     "data": {
      "text/plain": "<Figure size 640x480 with 1 Axes>",
      "image/png": "[encoded data removed]"
     },
     "metadata": {},
     "output_type": "display_data"
    }
   ],
   "source": [
    "Group_A['Salary'].hist()"
   ],
   "metadata": {
    "collapsed": false,
    "ExecuteTime": {
     "end_time": "2024-02-16T04:39:30.961068900Z",
     "start_time": "2024-02-16T04:39:30.582222300Z"
    }
   },
   "id": "5c6199bff9d536f1",
   "execution_count": 21
  },
  {
   "cell_type": "code",
   "outputs": [
    {
     "data": {
      "text/plain": "      Age  Gender Education Level                              Job Title  \\\n1    28.0  Female        Master's                           Data Analyst   \n5    29.0    Male      Bachelor's                      Marketing Analyst   \n8    26.0  Female      Bachelor's                  Marketing Coordinator   \n10   29.0    Male        Master's                     Software Developer   \n14   27.0    Male      Bachelor's                   Customer Service Rep   \n18   25.0  Female      Bachelor's                       Data Entry Clerk   \n25   28.0  Female      Bachelor's                Social Media Specialist   \n32   29.0    Male        Master's                         Data Scientist   \n35   27.0    Male      Bachelor's                       Technical Writer   \n38   26.0  Female      Bachelor's                   Customer Success Rep   \n45   28.0  Female      Bachelor's                             Copywriter   \n49   25.0    Male      Bachelor's                      Help Desk Analyst   \n54   29.0  Female      Bachelor's                       Graphic Designer   \n56   27.0  Female        Master's                          UX Researcher   \n61   29.0    Male      Bachelor's                      Marketing Analyst   \n64   26.0    Male      Bachelor's                      Junior Accountant   \n73   28.0    Male      Bachelor's           Technical Support Specialist   \n82   25.0    Male      Bachelor's                   Sales Representative   \n84   29.0  Female      Bachelor's                        Junior Designer   \n86   27.0    Male      Bachelor's                 Junior Account Manager   \n91   29.0  Female      Bachelor's                        Sales Associate   \n97   26.0    Male      Bachelor's              Junior Software Developer   \n109  28.0    Male      Bachelor's               Customer Success Manager   \n118  29.0  Female      Bachelor's                   Junior HR Generalist   \n125  26.0    Male      Bachelor's                      Junior Accountant   \n131  29.0    Male      Bachelor's                    Junior Web Designer   \n134  27.0    Male      Bachelor's            Junior Sales Representative   \n140  28.0    Male      Bachelor's                Junior Business Analyst   \n144  25.0  Female        Master's            Junior Marketing Specialist   \n150  29.0  Female      Bachelor's                       Junior Recruiter   \n153  26.0    Male      Bachelor's     Junior Customer Support Specialist   \n159  28.0    Male      Bachelor's               Junior Software Engineer   \n165  27.0    Male      Bachelor's  Junior Business Development Associate   \n171  29.0    Male      Bachelor's           Junior Marketing Coordinator   \n174  26.0  Female        Master's                  Junior Data Scientist   \n180  29.0  Female      Bachelor's            Junior Sales Representative   \n183  27.0    Male      Bachelor's                 Junior Product Manager   \n189  28.0    Male      Bachelor's              Junior Operations Analyst   \n195  28.0    Male      Bachelor's                Junior Business Analyst   \n203  27.0  Female        Master's                     Junior UX Designer   \n212  28.0    Male      Bachelor's  Junior Business Development Associate   \n218  29.0    Male      Bachelor's     Junior Business Operations Analyst   \n224  28.0    Male      Bachelor's               Junior Financial Analyst   \n232  27.0  Female        Master's              Junior Research Scientist   \n241  29.0    Male      Bachelor's                Junior Business Analyst   \n253  28.0    Male      Bachelor's  Junior Business Development Associate   \n259  29.0    Male      Bachelor's     Junior Business Operations Analyst   \n265  29.0  Female      Bachelor's            Junior Sales Representative   \n283  29.0  Female      Bachelor's  Junior Business Development Associate   \n292  29.0  Female      Bachelor's            Junior Marketing Specialist   \n310  29.0  Female      Bachelor's  Junior Business Development Associate   \n324  29.0  Female      Bachelor's               Junior Marketing Analyst   \n336  29.0  Female      Bachelor's                 Junior Project Manager   \n348  28.0  Female      Bachelor's              Junior Operations Manager   \n360  29.0  Female      Bachelor's                 Junior Project Manager   \n372  29.0  Female      Bachelor's                 Junior Project Manager   \n\n     Years of Experience   Salary Age Group  \n1                    3.0  65000.0         B  \n5                    2.0  55000.0         B  \n8                    1.0  45000.0         B  \n10                   3.0  75000.0         B  \n14                   2.0  40000.0         B  \n18                   0.0  35000.0         B  \n25                   3.0  45000.0         B  \n32                   3.0  75000.0         B  \n35                   2.0  45000.0         B  \n38                   1.0  40000.0         B  \n45                   2.0  40000.0         B  \n49                   0.0  35000.0         B  \n54                   3.0  50000.0         B  \n56                   2.0  65000.0         B  \n61                   3.0  50000.0         B  \n64                   1.0  35000.0         B  \n73                   2.0  40000.0         B  \n82                   0.0  30000.0         B  \n84                   2.0  40000.0         B  \n86                   2.0  45000.0         B  \n91                   3.0  40000.0         B  \n97                   1.0  35000.0         B  \n109                  2.0  40000.0         B  \n118                  3.0  45000.0         B  \n125                  2.0  40000.0         B  \n131                  3.0  45000.0         B  \n134                  1.0  35000.0         B  \n140                  2.0  40000.0         B  \n144                  1.5  40000.0         B  \n150                  3.0  45000.0         B  \n153                  2.0  35000.0         B  \n159                  2.0  40000.0         B  \n165                  1.5  35000.0         B  \n171                  2.0  40000.0         B  \n174                  1.5  45000.0         B  \n180                  2.0  40000.0         B  \n183                  2.0  40000.0         B  \n189                  1.5  35000.0         B  \n195                  2.0  40000.0         B  \n203                  1.5  45000.0         B  \n212                  2.0  40000.0         B  \n218                  1.5  35000.0         B  \n224                  2.0  40000.0         B  \n232                  1.5  50000.0         B  \n241                  1.5  40000.0         B  \n253                  2.0  40000.0         B  \n259                  1.5    350.0         B  \n265                  1.5  40000.0         B  \n283                  1.5  35000.0         B  \n292                  2.0  40000.0         B  \n310                  1.5  35000.0         B  \n324                  2.0  40000.0         B  \n336                  2.0  40000.0         B  \n348                  1.0  35000.0         B  \n360                  2.0  40000.0         B  \n372                  2.0  40000.0         B  ",
      "text/html": "<div>\n<style scoped>\n    .dataframe tbody tr th:only-of-type {\n        vertical-align: middle;\n    }\n\n    .dataframe tbody tr th {\n        vertical-align: top;\n    }\n\n    .dataframe thead th {\n        text-align: right;\n    }\n</style>\n<table border=\"1\" class=\"dataframe\">\n  <thead>\n    <tr style=\"text-align: right;\">\n      <th></th>\n      <th>Age</th>\n      <th>Gender</th>\n      <th>Education Level</th>\n      <th>Job Title</th>\n      <th>Years of Experience</th>\n      <th>Salary</th>\n      <th>Age Group</th>\n    </tr>\n  </thead>\n  <tbody>\n    <tr>\n      <th>1</th>\n      <td>28.0</td>\n      <td>Female</td>\n      <td>Master's</td>\n      <td>Data Analyst</td>\n      <td>3.0</td>\n      <td>65000.0</td>\n      <td>B</td>\n    </tr>\n    <tr>\n      <th>5</th>\n      <td>29.0</td>\n      <td>Male</td>\n      <td>Bachelor's</td>\n      <td>Marketing Analyst</td>\n      <td>2.0</td>\n      <td>55000.0</td>\n      <td>B</td>\n    </tr>\n    <tr>\n      <th>8</th>\n      <td>26.0</td>\n      <td>Female</td>\n      <td>Bachelor's</td>\n      <td>Marketing Coordinator</td>\n      <td>1.0</td>\n      <td>45000.0</td>\n      <td>B</td>\n    </tr>\n    <tr>\n      <th>10</th>\n      <td>29.0</td>\n      <td>Male</td>\n      <td>Master's</td>\n      <td>Software Developer</td>\n      <td>3.0</td>\n      <td>75000.0</td>\n      <td>B</td>\n    </tr>\n    <tr>\n      <th>14</th>\n      <td>27.0</td>\n      <td>Male</td>\n      <td>Bachelor's</td>\n      <td>Customer Service Rep</td>\n      <td>2.0</td>\n      <td>40000.0</td>\n      <td>B</td>\n    </tr>\n    <tr>\n      <th>18</th>\n      <td>25.0</td>\n      <td>Female</td>\n      <td>Bachelor's</td>\n      <td>Data Entry Clerk</td>\n      <td>0.0</td>\n      <td>35000.0</td>\n      <td>B</td>\n    </tr>\n    <tr>\n      <th>25</th>\n      <td>28.0</td>\n      <td>Female</td>\n      <td>Bachelor's</td>\n      <td>Social Media Specialist</td>\n      <td>3.0</td>\n      <td>45000.0</td>\n      <td>B</td>\n    </tr>\n    <tr>\n      <th>32</th>\n      <td>29.0</td>\n      <td>Male</td>\n      <td>Master's</td>\n      <td>Data Scientist</td>\n      <td>3.0</td>\n      <td>75000.0</td>\n      <td>B</td>\n    </tr>\n    <tr>\n      <th>35</th>\n      <td>27.0</td>\n      <td>Male</td>\n      <td>Bachelor's</td>\n      <td>Technical Writer</td>\n      <td>2.0</td>\n      <td>45000.0</td>\n      <td>B</td>\n    </tr>\n    <tr>\n      <th>38</th>\n      <td>26.0</td>\n      <td>Female</td>\n      <td>Bachelor's</td>\n      <td>Customer Success Rep</td>\n      <td>1.0</td>\n      <td>40000.0</td>\n      <td>B</td>\n    </tr>\n    <tr>\n      <th>45</th>\n      <td>28.0</td>\n      <td>Female</td>\n      <td>Bachelor's</td>\n      <td>Copywriter</td>\n      <td>2.0</td>\n      <td>40000.0</td>\n      <td>B</td>\n    </tr>\n    <tr>\n      <th>49</th>\n      <td>25.0</td>\n      <td>Male</td>\n      <td>Bachelor's</td>\n      <td>Help Desk Analyst</td>\n      <td>0.0</td>\n      <td>35000.0</td>\n      <td>B</td>\n    </tr>\n    <tr>\n      <th>54</th>\n      <td>29.0</td>\n      <td>Female</td>\n      <td>Bachelor's</td>\n      <td>Graphic Designer</td>\n      <td>3.0</td>\n      <td>50000.0</td>\n      <td>B</td>\n    </tr>\n    <tr>\n      <th>56</th>\n      <td>27.0</td>\n      <td>Female</td>\n      <td>Master's</td>\n      <td>UX Researcher</td>\n      <td>2.0</td>\n      <td>65000.0</td>\n      <td>B</td>\n    </tr>\n    <tr>\n      <th>61</th>\n      <td>29.0</td>\n      <td>Male</td>\n      <td>Bachelor's</td>\n      <td>Marketing Analyst</td>\n      <td>3.0</td>\n      <td>50000.0</td>\n      <td>B</td>\n    </tr>\n    <tr>\n      <th>64</th>\n      <td>26.0</td>\n      <td>Male</td>\n      <td>Bachelor's</td>\n      <td>Junior Accountant</td>\n      <td>1.0</td>\n      <td>35000.0</td>\n      <td>B</td>\n    </tr>\n    <tr>\n      <th>73</th>\n      <td>28.0</td>\n      <td>Male</td>\n      <td>Bachelor's</td>\n      <td>Technical Support Specialist</td>\n      <td>2.0</td>\n      <td>40000.0</td>\n      <td>B</td>\n    </tr>\n    <tr>\n      <th>82</th>\n      <td>25.0</td>\n      <td>Male</td>\n      <td>Bachelor's</td>\n      <td>Sales Representative</td>\n      <td>0.0</td>\n      <td>30000.0</td>\n      <td>B</td>\n    </tr>\n    <tr>\n      <th>84</th>\n      <td>29.0</td>\n      <td>Female</td>\n      <td>Bachelor's</td>\n      <td>Junior Designer</td>\n      <td>2.0</td>\n      <td>40000.0</td>\n      <td>B</td>\n    </tr>\n    <tr>\n      <th>86</th>\n      <td>27.0</td>\n      <td>Male</td>\n      <td>Bachelor's</td>\n      <td>Junior Account Manager</td>\n      <td>2.0</td>\n      <td>45000.0</td>\n      <td>B</td>\n    </tr>\n    <tr>\n      <th>91</th>\n      <td>29.0</td>\n      <td>Female</td>\n      <td>Bachelor's</td>\n      <td>Sales Associate</td>\n      <td>3.0</td>\n      <td>40000.0</td>\n      <td>B</td>\n    </tr>\n    <tr>\n      <th>97</th>\n      <td>26.0</td>\n      <td>Male</td>\n      <td>Bachelor's</td>\n      <td>Junior Software Developer</td>\n      <td>1.0</td>\n      <td>35000.0</td>\n      <td>B</td>\n    </tr>\n    <tr>\n      <th>109</th>\n      <td>28.0</td>\n      <td>Male</td>\n      <td>Bachelor's</td>\n      <td>Customer Success Manager</td>\n      <td>2.0</td>\n      <td>40000.0</td>\n      <td>B</td>\n    </tr>\n    <tr>\n      <th>118</th>\n      <td>29.0</td>\n      <td>Female</td>\n      <td>Bachelor's</td>\n      <td>Junior HR Generalist</td>\n      <td>3.0</td>\n      <td>45000.0</td>\n      <td>B</td>\n    </tr>\n    <tr>\n      <th>125</th>\n      <td>26.0</td>\n      <td>Male</td>\n      <td>Bachelor's</td>\n      <td>Junior Accountant</td>\n      <td>2.0</td>\n      <td>40000.0</td>\n      <td>B</td>\n    </tr>\n    <tr>\n      <th>131</th>\n      <td>29.0</td>\n      <td>Male</td>\n      <td>Bachelor's</td>\n      <td>Junior Web Designer</td>\n      <td>3.0</td>\n      <td>45000.0</td>\n      <td>B</td>\n    </tr>\n    <tr>\n      <th>134</th>\n      <td>27.0</td>\n      <td>Male</td>\n      <td>Bachelor's</td>\n      <td>Junior Sales Representative</td>\n      <td>1.0</td>\n      <td>35000.0</td>\n      <td>B</td>\n    </tr>\n    <tr>\n      <th>140</th>\n      <td>28.0</td>\n      <td>Male</td>\n      <td>Bachelor's</td>\n      <td>Junior Business Analyst</td>\n      <td>2.0</td>\n      <td>40000.0</td>\n      <td>B</td>\n    </tr>\n    <tr>\n      <th>144</th>\n      <td>25.0</td>\n      <td>Female</td>\n      <td>Master's</td>\n      <td>Junior Marketing Specialist</td>\n      <td>1.5</td>\n      <td>40000.0</td>\n      <td>B</td>\n    </tr>\n    <tr>\n      <th>150</th>\n      <td>29.0</td>\n      <td>Female</td>\n      <td>Bachelor's</td>\n      <td>Junior Recruiter</td>\n      <td>3.0</td>\n      <td>45000.0</td>\n      <td>B</td>\n    </tr>\n    <tr>\n      <th>153</th>\n      <td>26.0</td>\n      <td>Male</td>\n      <td>Bachelor's</td>\n      <td>Junior Customer Support Specialist</td>\n      <td>2.0</td>\n      <td>35000.0</td>\n      <td>B</td>\n    </tr>\n    <tr>\n      <th>159</th>\n      <td>28.0</td>\n      <td>Male</td>\n      <td>Bachelor's</td>\n      <td>Junior Software Engineer</td>\n      <td>2.0</td>\n      <td>40000.0</td>\n      <td>B</td>\n    </tr>\n    <tr>\n      <th>165</th>\n      <td>27.0</td>\n      <td>Male</td>\n      <td>Bachelor's</td>\n      <td>Junior Business Development Associate</td>\n      <td>1.5</td>\n      <td>35000.0</td>\n      <td>B</td>\n    </tr>\n    <tr>\n      <th>171</th>\n      <td>29.0</td>\n      <td>Male</td>\n      <td>Bachelor's</td>\n      <td>Junior Marketing Coordinator</td>\n      <td>2.0</td>\n      <td>40000.0</td>\n      <td>B</td>\n    </tr>\n    <tr>\n      <th>174</th>\n      <td>26.0</td>\n      <td>Female</td>\n      <td>Master's</td>\n      <td>Junior Data Scientist</td>\n      <td>1.5</td>\n      <td>45000.0</td>\n      <td>B</td>\n    </tr>\n    <tr>\n      <th>180</th>\n      <td>29.0</td>\n      <td>Female</td>\n      <td>Bachelor's</td>\n      <td>Junior Sales Representative</td>\n      <td>2.0</td>\n      <td>40000.0</td>\n      <td>B</td>\n    </tr>\n    <tr>\n      <th>183</th>\n      <td>27.0</td>\n      <td>Male</td>\n      <td>Bachelor's</td>\n      <td>Junior Product Manager</td>\n      <td>2.0</td>\n      <td>40000.0</td>\n      <td>B</td>\n    </tr>\n    <tr>\n      <th>189</th>\n      <td>28.0</td>\n      <td>Male</td>\n      <td>Bachelor's</td>\n      <td>Junior Operations Analyst</td>\n      <td>1.5</td>\n      <td>35000.0</td>\n      <td>B</td>\n    </tr>\n    <tr>\n      <th>195</th>\n      <td>28.0</td>\n      <td>Male</td>\n      <td>Bachelor's</td>\n      <td>Junior Business Analyst</td>\n      <td>2.0</td>\n      <td>40000.0</td>\n      <td>B</td>\n    </tr>\n    <tr>\n      <th>203</th>\n      <td>27.0</td>\n      <td>Female</td>\n      <td>Master's</td>\n      <td>Junior UX Designer</td>\n      <td>1.5</td>\n      <td>45000.0</td>\n      <td>B</td>\n    </tr>\n    <tr>\n      <th>212</th>\n      <td>28.0</td>\n      <td>Male</td>\n      <td>Bachelor's</td>\n      <td>Junior Business Development Associate</td>\n      <td>2.0</td>\n      <td>40000.0</td>\n      <td>B</td>\n    </tr>\n    <tr>\n      <th>218</th>\n      <td>29.0</td>\n      <td>Male</td>\n      <td>Bachelor's</td>\n      <td>Junior Business Operations Analyst</td>\n      <td>1.5</td>\n      <td>35000.0</td>\n      <td>B</td>\n    </tr>\n    <tr>\n      <th>224</th>\n      <td>28.0</td>\n      <td>Male</td>\n      <td>Bachelor's</td>\n      <td>Junior Financial Analyst</td>\n      <td>2.0</td>\n      <td>40000.0</td>\n      <td>B</td>\n    </tr>\n    <tr>\n      <th>232</th>\n      <td>27.0</td>\n      <td>Female</td>\n      <td>Master's</td>\n      <td>Junior Research Scientist</td>\n      <td>1.5</td>\n      <td>50000.0</td>\n      <td>B</td>\n    </tr>\n    <tr>\n      <th>241</th>\n      <td>29.0</td>\n      <td>Male</td>\n      <td>Bachelor's</td>\n      <td>Junior Business Analyst</td>\n      <td>1.5</td>\n      <td>40000.0</td>\n      <td>B</td>\n    </tr>\n    <tr>\n      <th>253</th>\n      <td>28.0</td>\n      <td>Male</td>\n      <td>Bachelor's</td>\n      <td>Junior Business Development Associate</td>\n      <td>2.0</td>\n      <td>40000.0</td>\n      <td>B</td>\n    </tr>\n    <tr>\n      <th>259</th>\n      <td>29.0</td>\n      <td>Male</td>\n      <td>Bachelor's</td>\n      <td>Junior Business Operations Analyst</td>\n      <td>1.5</td>\n      <td>350.0</td>\n      <td>B</td>\n    </tr>\n    <tr>\n      <th>265</th>\n      <td>29.0</td>\n      <td>Female</td>\n      <td>Bachelor's</td>\n      <td>Junior Sales Representative</td>\n      <td>1.5</td>\n      <td>40000.0</td>\n      <td>B</td>\n    </tr>\n    <tr>\n      <th>283</th>\n      <td>29.0</td>\n      <td>Female</td>\n      <td>Bachelor's</td>\n      <td>Junior Business Development Associate</td>\n      <td>1.5</td>\n      <td>35000.0</td>\n      <td>B</td>\n    </tr>\n    <tr>\n      <th>292</th>\n      <td>29.0</td>\n      <td>Female</td>\n      <td>Bachelor's</td>\n      <td>Junior Marketing Specialist</td>\n      <td>2.0</td>\n      <td>40000.0</td>\n      <td>B</td>\n    </tr>\n    <tr>\n      <th>310</th>\n      <td>29.0</td>\n      <td>Female</td>\n      <td>Bachelor's</td>\n      <td>Junior Business Development Associate</td>\n      <td>1.5</td>\n      <td>35000.0</td>\n      <td>B</td>\n    </tr>\n    <tr>\n      <th>324</th>\n      <td>29.0</td>\n      <td>Female</td>\n      <td>Bachelor's</td>\n      <td>Junior Marketing Analyst</td>\n      <td>2.0</td>\n      <td>40000.0</td>\n      <td>B</td>\n    </tr>\n    <tr>\n      <th>336</th>\n      <td>29.0</td>\n      <td>Female</td>\n      <td>Bachelor's</td>\n      <td>Junior Project Manager</td>\n      <td>2.0</td>\n      <td>40000.0</td>\n      <td>B</td>\n    </tr>\n    <tr>\n      <th>348</th>\n      <td>28.0</td>\n      <td>Female</td>\n      <td>Bachelor's</td>\n      <td>Junior Operations Manager</td>\n      <td>1.0</td>\n      <td>35000.0</td>\n      <td>B</td>\n    </tr>\n    <tr>\n      <th>360</th>\n      <td>29.0</td>\n      <td>Female</td>\n      <td>Bachelor's</td>\n      <td>Junior Project Manager</td>\n      <td>2.0</td>\n      <td>40000.0</td>\n      <td>B</td>\n    </tr>\n    <tr>\n      <th>372</th>\n      <td>29.0</td>\n      <td>Female</td>\n      <td>Bachelor's</td>\n      <td>Junior Project Manager</td>\n      <td>2.0</td>\n      <td>40000.0</td>\n      <td>B</td>\n    </tr>\n  </tbody>\n</table>\n</div>"
     },
     "execution_count": 22,
     "metadata": {},
     "output_type": "execute_result"
    }
   ],
   "source": [
    "Group_B=group.get_group('B')\n",
    "Group_B"
   ],
   "metadata": {
    "collapsed": false,
    "ExecuteTime": {
     "end_time": "2024-02-16T04:40:02.502348100Z",
     "start_time": "2024-02-16T04:40:02.432502100Z"
    }
   },
   "id": "b9bb6a7780f81d6b",
   "execution_count": 22
  },
  {
   "cell_type": "code",
   "outputs": [
    {
     "data": {
      "text/plain": "<Axes: >"
     },
     "execution_count": 25,
     "metadata": {},
     "output_type": "execute_result"
    },
    {
     "data": {
      "text/plain": "<Figure size 640x480 with 1 Axes>",
      "image/png": "[encoded data removed]"
     },
     "metadata": {},
     "output_type": "display_data"
    }
   ],
   "source": [
    "Group_B['Age'].hist()"
   ],
   "metadata": {
    "collapsed": false,
    "ExecuteTime": {
     "end_time": "2024-02-16T04:40:54.587113900Z",
     "start_time": "2024-02-16T04:40:54.338017600Z"
    }
   },
   "id": "3071b02b8c5fdc5c",
   "execution_count": 25
  },
  {
   "cell_type": "code",
   "outputs": [],
   "source": [],
   "metadata": {
    "collapsed": false
   },
   "id": "ac7d2fd7eecbe9f4"
  }
 ],
 "metadata": {
  "kernelspec": {
   "display_name": "Python 3",
   "language": "python",
   "name": "python3"
  },
  "language_info": {
   "codemirror_mode": {
    "name": "ipython",
    "version": 2
   },
   "file_extension": ".py",
   "mimetype": "text/x-python",
   "name": "python",
   "nbconvert_exporter": "python",
   "pygments_lexer": "ipython2",
   "version": "2.7.6"
  }
 },
 "nbformat": 4,
 "nbformat_minor": 5
}
