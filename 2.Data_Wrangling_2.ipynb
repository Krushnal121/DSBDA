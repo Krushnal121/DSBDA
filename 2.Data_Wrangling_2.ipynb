{
 "cells": [
  {
   "cell_type": "code",
   "execution_count": 24,
   "id": "ee3078b0-299b-494c-8b5c-d7f5a021f749",
   "metadata": {
    "ExecuteTime": {
     "end_time": "2024-05-01T05:14:26.794923Z",
     "start_time": "2024-05-01T05:14:26.790330Z"
    }
   },
   "outputs": [],
   "source": [
    "#importing Libraries\n",
    "import pandas as pd\n",
    "import matplotlib.pyplot as plt"
   ]
  },
  {
   "cell_type": "code",
   "execution_count": 25,
   "id": "7254deeb-de09-4fe2-9f62-9f886342325a",
   "metadata": {
    "ExecuteTime": {
     "end_time": "2024-05-01T05:14:26.812101Z",
     "start_time": "2024-05-01T05:14:26.804991Z"
    }
   },
   "outputs": [],
   "source": [
    "#Loading Data\n",
    "df=pd.DataFrame({'Name': ['Adi', 'Deeksha', 'Jincy', 'Keerthi', 'Harish', 'Anu', 'Ram'],\n",
    "        'Age': [17, 17, 18, 17, 18, 17, 17],\n",
    "        'Gender': ['M', 'F', 'F', 'F', 'M', 'F', 'M'],\n",
    "        'Marks': [90, 76, 'NAN', 74, 65, 'NAN', 71]})"
   ]
  },
  {
   "cell_type": "code",
   "execution_count": 26,
   "id": "183b7fca-580e-4ea9-89ff-07d5b0fd90f8",
   "metadata": {
    "ExecuteTime": {
     "end_time": "2024-05-01T05:14:26.827665Z",
     "start_time": "2024-05-01T05:14:26.814212Z"
    }
   },
   "outputs": [
    {
     "data": {
      "text/html": [
       "<div>\n",
       "<style scoped>\n",
       "    .dataframe tbody tr th:only-of-type {\n",
       "        vertical-align: middle;\n",
       "    }\n",
       "\n",
       "    .dataframe tbody tr th {\n",
       "        vertical-align: top;\n",
       "    }\n",
       "\n",
       "    .dataframe thead th {\n",
       "        text-align: right;\n",
       "    }\n",
       "</style>\n",
       "<table border=\"1\" class=\"dataframe\">\n",
       "  <thead>\n",
       "    <tr style=\"text-align: right;\">\n",
       "      <th></th>\n",
       "      <th>Name</th>\n",
       "      <th>Age</th>\n",
       "      <th>Gender</th>\n",
       "      <th>Marks</th>\n",
       "    </tr>\n",
       "  </thead>\n",
       "  <tbody>\n",
       "    <tr>\n",
       "      <th>0</th>\n",
       "      <td>Adi</td>\n",
       "      <td>17</td>\n",
       "      <td>M</td>\n",
       "      <td>90</td>\n",
       "    </tr>\n",
       "    <tr>\n",
       "      <th>1</th>\n",
       "      <td>Deeksha</td>\n",
       "      <td>17</td>\n",
       "      <td>F</td>\n",
       "      <td>76</td>\n",
       "    </tr>\n",
       "    <tr>\n",
       "      <th>2</th>\n",
       "      <td>Jincy</td>\n",
       "      <td>18</td>\n",
       "      <td>F</td>\n",
       "      <td>NAN</td>\n",
       "    </tr>\n",
       "    <tr>\n",
       "      <th>3</th>\n",
       "      <td>Keerthi</td>\n",
       "      <td>17</td>\n",
       "      <td>F</td>\n",
       "      <td>74</td>\n",
       "    </tr>\n",
       "    <tr>\n",
       "      <th>4</th>\n",
       "      <td>Harish</td>\n",
       "      <td>18</td>\n",
       "      <td>M</td>\n",
       "      <td>65</td>\n",
       "    </tr>\n",
       "  </tbody>\n",
       "</table>\n",
       "</div>"
      ],
      "text/plain": [
       "      Name  Age Gender Marks\n",
       "0      Adi   17      M    90\n",
       "1  Deeksha   17      F    76\n",
       "2    Jincy   18      F   NAN\n",
       "3  Keerthi   17      F    74\n",
       "4   Harish   18      M    65"
      ]
     },
     "execution_count": 26,
     "metadata": {},
     "output_type": "execute_result"
    }
   ],
   "source": [
    "#Printing the head of dataframe\n",
    "df.head()"
   ]
  },
  {
   "cell_type": "code",
   "execution_count": 27,
   "id": "8ae21255-d45d-43f4-9904-310096ac8c58",
   "metadata": {
    "ExecuteTime": {
     "end_time": "2024-05-01T05:14:26.925098Z",
     "start_time": "2024-05-01T05:14:26.914924Z"
    }
   },
   "outputs": [
    {
     "data": {
      "text/plain": [
       "Name      0\n",
       "Age       0\n",
       "Gender    0\n",
       "Marks     0\n",
       "dtype: int64"
      ]
     },
     "execution_count": 27,
     "metadata": {},
     "output_type": "execute_result"
    }
   ],
   "source": [
    "#Checking presence of Null Values\n",
    "df.isnull().sum()"
   ]
  },
  {
   "cell_type": "code",
   "execution_count": 28,
   "id": "5f005fc0-dfc1-4387-b929-53f8c7b8f290",
   "metadata": {
    "ExecuteTime": {
     "end_time": "2024-05-01T05:14:26.978189Z",
     "start_time": "2024-05-01T05:14:26.957608Z"
    }
   },
   "outputs": [
    {
     "name": "stderr",
     "output_type": "stream",
     "text": [
      "C:\\Users\\krush\\AppData\\Local\\Temp\\ipykernel_2220\\3800647854.py:2: FutureWarning: Downcasting behavior in `replace` is deprecated and will be removed in a future version. To retain the old behavior, explicitly call `result.infer_objects(copy=False)`. To opt-in to the future behavior, set `pd.set_option('future.no_silent_downcasting', True)`\n",
      "  df=df.replace(to_replace=\"NAN\",value=30)\n"
     ]
    },
    {
     "data": {
      "text/html": [
       "<div>\n",
       "<style scoped>\n",
       "    .dataframe tbody tr th:only-of-type {\n",
       "        vertical-align: middle;\n",
       "    }\n",
       "\n",
       "    .dataframe tbody tr th {\n",
       "        vertical-align: top;\n",
       "    }\n",
       "\n",
       "    .dataframe thead th {\n",
       "        text-align: right;\n",
       "    }\n",
       "</style>\n",
       "<table border=\"1\" class=\"dataframe\">\n",
       "  <thead>\n",
       "    <tr style=\"text-align: right;\">\n",
       "      <th></th>\n",
       "      <th>Name</th>\n",
       "      <th>Age</th>\n",
       "      <th>Gender</th>\n",
       "      <th>Marks</th>\n",
       "    </tr>\n",
       "  </thead>\n",
       "  <tbody>\n",
       "    <tr>\n",
       "      <th>0</th>\n",
       "      <td>Adi</td>\n",
       "      <td>17</td>\n",
       "      <td>M</td>\n",
       "      <td>90</td>\n",
       "    </tr>\n",
       "    <tr>\n",
       "      <th>1</th>\n",
       "      <td>Deeksha</td>\n",
       "      <td>17</td>\n",
       "      <td>F</td>\n",
       "      <td>76</td>\n",
       "    </tr>\n",
       "    <tr>\n",
       "      <th>2</th>\n",
       "      <td>Jincy</td>\n",
       "      <td>18</td>\n",
       "      <td>F</td>\n",
       "      <td>30</td>\n",
       "    </tr>\n",
       "    <tr>\n",
       "      <th>3</th>\n",
       "      <td>Keerthi</td>\n",
       "      <td>17</td>\n",
       "      <td>F</td>\n",
       "      <td>74</td>\n",
       "    </tr>\n",
       "    <tr>\n",
       "      <th>4</th>\n",
       "      <td>Harish</td>\n",
       "      <td>18</td>\n",
       "      <td>M</td>\n",
       "      <td>65</td>\n",
       "    </tr>\n",
       "    <tr>\n",
       "      <th>5</th>\n",
       "      <td>Anu</td>\n",
       "      <td>17</td>\n",
       "      <td>F</td>\n",
       "      <td>30</td>\n",
       "    </tr>\n",
       "    <tr>\n",
       "      <th>6</th>\n",
       "      <td>Ram</td>\n",
       "      <td>17</td>\n",
       "      <td>M</td>\n",
       "      <td>71</td>\n",
       "    </tr>\n",
       "  </tbody>\n",
       "</table>\n",
       "</div>"
      ],
      "text/plain": [
       "      Name  Age Gender  Marks\n",
       "0      Adi   17      M     90\n",
       "1  Deeksha   17      F     76\n",
       "2    Jincy   18      F     30\n",
       "3  Keerthi   17      F     74\n",
       "4   Harish   18      M     65\n",
       "5      Anu   17      F     30\n",
       "6      Ram   17      M     71"
      ]
     },
     "execution_count": 28,
     "metadata": {},
     "output_type": "execute_result"
    }
   ],
   "source": [
    "#replacing \"NAN\" values with appropriate operable value.\n",
    "df=df.replace(to_replace=\"NAN\",value=30)\n",
    "#Printing the head of dataframe\n",
    "df"
   ]
  },
  {
   "cell_type": "code",
   "execution_count": 29,
   "id": "1757a7c0-53ae-4768-88dd-9d6778aefa26",
   "metadata": {
    "ExecuteTime": {
     "end_time": "2024-05-01T05:14:27.104760Z",
     "start_time": "2024-05-01T05:14:27.078041Z"
    }
   },
   "outputs": [
    {
     "data": {
      "text/html": [
       "<div>\n",
       "<style scoped>\n",
       "    .dataframe tbody tr th:only-of-type {\n",
       "        vertical-align: middle;\n",
       "    }\n",
       "\n",
       "    .dataframe tbody tr th {\n",
       "        vertical-align: top;\n",
       "    }\n",
       "\n",
       "    .dataframe thead th {\n",
       "        text-align: right;\n",
       "    }\n",
       "</style>\n",
       "<table border=\"1\" class=\"dataframe\">\n",
       "  <thead>\n",
       "    <tr style=\"text-align: right;\">\n",
       "      <th></th>\n",
       "      <th>Name</th>\n",
       "      <th>Age</th>\n",
       "      <th>Gender</th>\n",
       "      <th>Marks</th>\n",
       "    </tr>\n",
       "  </thead>\n",
       "  <tbody>\n",
       "    <tr>\n",
       "      <th>0</th>\n",
       "      <td>Adi</td>\n",
       "      <td>17</td>\n",
       "      <td>0</td>\n",
       "      <td>90</td>\n",
       "    </tr>\n",
       "    <tr>\n",
       "      <th>1</th>\n",
       "      <td>Deeksha</td>\n",
       "      <td>17</td>\n",
       "      <td>1</td>\n",
       "      <td>76</td>\n",
       "    </tr>\n",
       "    <tr>\n",
       "      <th>2</th>\n",
       "      <td>Jincy</td>\n",
       "      <td>18</td>\n",
       "      <td>1</td>\n",
       "      <td>30</td>\n",
       "    </tr>\n",
       "    <tr>\n",
       "      <th>3</th>\n",
       "      <td>Keerthi</td>\n",
       "      <td>17</td>\n",
       "      <td>1</td>\n",
       "      <td>74</td>\n",
       "    </tr>\n",
       "    <tr>\n",
       "      <th>4</th>\n",
       "      <td>Harish</td>\n",
       "      <td>18</td>\n",
       "      <td>0</td>\n",
       "      <td>65</td>\n",
       "    </tr>\n",
       "    <tr>\n",
       "      <th>5</th>\n",
       "      <td>Anu</td>\n",
       "      <td>17</td>\n",
       "      <td>1</td>\n",
       "      <td>30</td>\n",
       "    </tr>\n",
       "    <tr>\n",
       "      <th>6</th>\n",
       "      <td>Ram</td>\n",
       "      <td>17</td>\n",
       "      <td>0</td>\n",
       "      <td>71</td>\n",
       "    </tr>\n",
       "  </tbody>\n",
       "</table>\n",
       "</div>"
      ],
      "text/plain": [
       "      Name  Age  Gender  Marks\n",
       "0      Adi   17       0     90\n",
       "1  Deeksha   17       1     76\n",
       "2    Jincy   18       1     30\n",
       "3  Keerthi   17       1     74\n",
       "4   Harish   18       0     65\n",
       "5      Anu   17       1     30\n",
       "6      Ram   17       0     71"
      ]
     },
     "execution_count": 29,
     "metadata": {},
     "output_type": "execute_result"
    }
   ],
   "source": [
    "#replacing categorical values \"M\" and \"F\" with Numeric Variable.\n",
    "df['Gender']=df['Gender'].map({'M':0,'F':1})\n",
    "#Printing the head of dataframe\n",
    "df"
   ]
  },
  {
   "cell_type": "code",
   "execution_count": 39,
   "id": "117a4b501da9c7f0",
   "metadata": {
    "collapsed": false,
    "ExecuteTime": {
     "end_time": "2024-05-01T05:35:45.949913Z",
     "start_time": "2024-05-01T05:35:45.935127Z"
    }
   },
   "outputs": [
    {
     "data": {
      "text/plain": "      Name  Gender  Marks\n0      Adi       0     90\n1  Deeksha       1     76",
      "text/html": "<div>\n<style scoped>\n    .dataframe tbody tr th:only-of-type {\n        vertical-align: middle;\n    }\n\n    .dataframe tbody tr th {\n        vertical-align: top;\n    }\n\n    .dataframe thead th {\n        text-align: right;\n    }\n</style>\n<table border=\"1\" class=\"dataframe\">\n  <thead>\n    <tr style=\"text-align: right;\">\n      <th></th>\n      <th>Name</th>\n      <th>Gender</th>\n      <th>Marks</th>\n    </tr>\n  </thead>\n  <tbody>\n    <tr>\n      <th>0</th>\n      <td>Adi</td>\n      <td>0</td>\n      <td>90</td>\n    </tr>\n    <tr>\n      <th>1</th>\n      <td>Deeksha</td>\n      <td>1</td>\n      <td>76</td>\n    </tr>\n  </tbody>\n</table>\n</div>"
     },
     "execution_count": 39,
     "metadata": {},
     "output_type": "execute_result"
    }
   ],
   "source": [
    "#filtering data on the basis of the Marks\n",
    "df[df['Marks'] >= 75]"
   ]
  },
  {
   "cell_type": "code",
   "execution_count": 30,
   "id": "0ce17a52-64e7-470d-ba04-748fb615c40c",
   "metadata": {
    "ExecuteTime": {
     "end_time": "2024-05-01T05:14:27.161969Z",
     "start_time": "2024-05-01T05:14:27.152288Z"
    }
   },
   "outputs": [
    {
     "data": {
      "text/html": [
       "<div>\n",
       "<style scoped>\n",
       "    .dataframe tbody tr th:only-of-type {\n",
       "        vertical-align: middle;\n",
       "    }\n",
       "\n",
       "    .dataframe tbody tr th {\n",
       "        vertical-align: top;\n",
       "    }\n",
       "\n",
       "    .dataframe thead th {\n",
       "        text-align: right;\n",
       "    }\n",
       "</style>\n",
       "<table border=\"1\" class=\"dataframe\">\n",
       "  <thead>\n",
       "    <tr style=\"text-align: right;\">\n",
       "      <th></th>\n",
       "      <th>Name</th>\n",
       "      <th>Gender</th>\n",
       "      <th>Marks</th>\n",
       "    </tr>\n",
       "  </thead>\n",
       "  <tbody>\n",
       "    <tr>\n",
       "      <th>0</th>\n",
       "      <td>Adi</td>\n",
       "      <td>0</td>\n",
       "      <td>90</td>\n",
       "    </tr>\n",
       "    <tr>\n",
       "      <th>1</th>\n",
       "      <td>Deeksha</td>\n",
       "      <td>1</td>\n",
       "      <td>76</td>\n",
       "    </tr>\n",
       "    <tr>\n",
       "      <th>2</th>\n",
       "      <td>Jincy</td>\n",
       "      <td>1</td>\n",
       "      <td>30</td>\n",
       "    </tr>\n",
       "    <tr>\n",
       "      <th>3</th>\n",
       "      <td>Keerthi</td>\n",
       "      <td>1</td>\n",
       "      <td>74</td>\n",
       "    </tr>\n",
       "    <tr>\n",
       "      <th>4</th>\n",
       "      <td>Harish</td>\n",
       "      <td>0</td>\n",
       "      <td>65</td>\n",
       "    </tr>\n",
       "    <tr>\n",
       "      <th>5</th>\n",
       "      <td>Anu</td>\n",
       "      <td>1</td>\n",
       "      <td>30</td>\n",
       "    </tr>\n",
       "    <tr>\n",
       "      <th>6</th>\n",
       "      <td>Ram</td>\n",
       "      <td>0</td>\n",
       "      <td>71</td>\n",
       "    </tr>\n",
       "  </tbody>\n",
       "</table>\n",
       "</div>"
      ],
      "text/plain": [
       "      Name  Gender  Marks\n",
       "0      Adi       0     90\n",
       "1  Deeksha       1     76\n",
       "2    Jincy       1     30\n",
       "3  Keerthi       1     74\n",
       "4   Harish       0     65\n",
       "5      Anu       1     30\n",
       "6      Ram       0     71"
      ]
     },
     "execution_count": 30,
     "metadata": {},
     "output_type": "execute_result"
    }
   ],
   "source": [
    "#Removing the Age Coloumn\n",
    "df=df.drop(['Age'],axis=1)\n",
    "df"
   ]
  },
  {
   "cell_type": "code",
   "execution_count": 31,
   "id": "4a4b25c9-85ca-4407-8cd2-8d078dadb495",
   "metadata": {
    "ExecuteTime": {
     "end_time": "2024-05-01T05:14:27.366575Z",
     "start_time": "2024-05-01T05:14:27.355912Z"
    }
   },
   "outputs": [
    {
     "data": {
      "text/plain": [
       "-0.7576687139994032"
      ]
     },
     "execution_count": 31,
     "metadata": {},
     "output_type": "execute_result"
    }
   ],
   "source": [
    "#Calculating the Coefficient of skewness\n",
    "df['Marks'].skew()"
   ]
  },
  {
   "cell_type": "code",
   "execution_count": 32,
   "id": "78d32982-94b3-4628-9cdc-d984465f04e8",
   "metadata": {
    "ExecuteTime": {
     "end_time": "2024-05-01T05:14:27.514404Z",
     "start_time": "2024-05-01T05:14:27.488072Z"
    }
   },
   "outputs": [
    {
     "data": {
      "text/plain": [
       "count     7.000000\n",
       "mean     62.285714\n",
       "std      23.314618\n",
       "min      30.000000\n",
       "25%      47.500000\n",
       "50%      71.000000\n",
       "75%      75.000000\n",
       "max      90.000000\n",
       "Name: Marks, dtype: float64"
      ]
     },
     "execution_count": 32,
     "metadata": {},
     "output_type": "execute_result"
    }
   ],
   "source": [
    "#Getting Statistical Data of the dataframe\n",
    "df['Marks'].describe()"
   ]
  },
  {
   "cell_type": "code",
   "execution_count": 33,
   "id": "97b14b5e-94c5-4757-9386-ebc1dbf491b0",
   "metadata": {
    "ExecuteTime": {
     "end_time": "2024-05-01T05:17:51.447562Z",
     "start_time": "2024-05-01T05:17:51.303961Z"
    }
   },
   "outputs": [
    {
     "data": {
      "text/plain": [
       "{'whiskers': [<matplotlib.lines.Line2D at 0x1d748aa3740>,\n",
       "  <matplotlib.lines.Line2D at 0x1d748aa34a0>],\n",
       " 'caps': [<matplotlib.lines.Line2D at 0x1d748a95280>,\n",
       "  <matplotlib.lines.Line2D at 0x1d748aa3a10>],\n",
       " 'boxes': [<matplotlib.lines.Line2D at 0x1d747139400>],\n",
       " 'medians': [<matplotlib.lines.Line2D at 0x1d748aa3c50>],\n",
       " 'fliers': [<matplotlib.lines.Line2D at 0x1d748aa3f50>],\n",
       " 'means': []}"
      ]
     },
     "execution_count": 33,
     "metadata": {},
     "output_type": "execute_result"
    },
    {
     "data": {
      "image/png": "[encoded data removed]",
      "text/plain": [
       "<Figure size 640x480 with 1 Axes>"
      ]
     },
     "metadata": {},
     "output_type": "display_data"
    }
   ],
   "source": [
    "#Plotting the Boxplot of the Mark\n",
    "plt.boxplot(df['Marks'])"
   ]
  }
 ],
 "metadata": {
  "kernelspec": {
   "display_name": "Python 3 (ipykernel)",
   "language": "python",
   "name": "python3"
  },
  "language_info": {
   "codemirror_mode": {
    "name": "ipython",
    "version": 3
   },
   "file_extension": ".py",
   "mimetype": "text/x-python",
   "name": "python",
   "nbconvert_exporter": "python",
   "pygments_lexer": "ipython3",
   "version": "3.12.1"
  }
 },
 "nbformat": 4,
 "nbformat_minor": 5
}
