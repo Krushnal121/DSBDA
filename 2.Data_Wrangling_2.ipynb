{
 "cells": [
  {
   "cell_type": "code",
   "execution_count": 1,
   "id": "ee3078b0-299b-494c-8b5c-d7f5a021f749",
   "metadata": {
    "ExecuteTime": {
     "end_time": "2024-05-13T14:40:01.404840Z",
     "start_time": "2024-05-13T14:40:01.399637Z"
    }
   },
   "outputs": [],
   "source": [
    "#importing Libraries\n",
    "import pandas as pd\n",
    "import matplotlib.pyplot as plt"
   ]
  },
  {
   "cell_type": "code",
   "execution_count": 2,
   "id": "7254deeb-de09-4fe2-9f62-9f886342325a",
   "metadata": {
    "ExecuteTime": {
     "end_time": "2024-05-13T14:40:01.415497Z",
     "start_time": "2024-05-13T14:40:01.407552Z"
    }
   },
   "outputs": [],
   "source": [
    "#Loading Data\n",
    "df=pd.DataFrame({'Name': ['Adi', 'Deeksha', 'Jincy', 'Keerthi', 'Harish', 'Anu', 'Ram'],\n",
    "        'Age': [17, 17, 18, 17, 18, 17, 17],\n",
    "        'Gender': ['M', 'F', 'F', 'F', 'M', 'F', 'M'],\n",
    "        'Marks': [90, 76, 'NAN', 74, 65, 'NAN', 71]})"
   ]
  },
  {
   "cell_type": "code",
   "execution_count": 3,
   "id": "183b7fca-580e-4ea9-89ff-07d5b0fd90f8",
   "metadata": {
    "ExecuteTime": {
     "end_time": "2024-05-13T14:40:01.430795Z",
     "start_time": "2024-05-13T14:40:01.416533Z"
    }
   },
   "outputs": [
    {
     "data": {
      "text/plain": "      Name  Age Gender Marks\n0      Adi   17      M    90\n1  Deeksha   17      F    76\n2    Jincy   18      F   NAN\n3  Keerthi   17      F    74\n4   Harish   18      M    65",
      "text/html": "<div>\n<style scoped>\n    .dataframe tbody tr th:only-of-type {\n        vertical-align: middle;\n    }\n\n    .dataframe tbody tr th {\n        vertical-align: top;\n    }\n\n    .dataframe thead th {\n        text-align: right;\n    }\n</style>\n<table border=\"1\" class=\"dataframe\">\n  <thead>\n    <tr style=\"text-align: right;\">\n      <th></th>\n      <th>Name</th>\n      <th>Age</th>\n      <th>Gender</th>\n      <th>Marks</th>\n    </tr>\n  </thead>\n  <tbody>\n    <tr>\n      <th>0</th>\n      <td>Adi</td>\n      <td>17</td>\n      <td>M</td>\n      <td>90</td>\n    </tr>\n    <tr>\n      <th>1</th>\n      <td>Deeksha</td>\n      <td>17</td>\n      <td>F</td>\n      <td>76</td>\n    </tr>\n    <tr>\n      <th>2</th>\n      <td>Jincy</td>\n      <td>18</td>\n      <td>F</td>\n      <td>NAN</td>\n    </tr>\n    <tr>\n      <th>3</th>\n      <td>Keerthi</td>\n      <td>17</td>\n      <td>F</td>\n      <td>74</td>\n    </tr>\n    <tr>\n      <th>4</th>\n      <td>Harish</td>\n      <td>18</td>\n      <td>M</td>\n      <td>65</td>\n    </tr>\n  </tbody>\n</table>\n</div>"
     },
     "execution_count": 3,
     "metadata": {},
     "output_type": "execute_result"
    }
   ],
   "source": [
    "#Printing the head of dataframe\n",
    "df.head()"
   ]
  },
  {
   "cell_type": "code",
   "execution_count": 4,
   "id": "8ae21255-d45d-43f4-9904-310096ac8c58",
   "metadata": {
    "ExecuteTime": {
     "end_time": "2024-05-13T14:40:01.438908Z",
     "start_time": "2024-05-13T14:40:01.431802Z"
    }
   },
   "outputs": [
    {
     "data": {
      "text/plain": "Name      0\nAge       0\nGender    0\nMarks     0\ndtype: int64"
     },
     "execution_count": 4,
     "metadata": {},
     "output_type": "execute_result"
    }
   ],
   "source": [
    "#Checking presence of Null Values\n",
    "df.isnull().sum()"
   ]
  },
  {
   "cell_type": "code",
   "execution_count": 5,
   "id": "5f005fc0-dfc1-4387-b929-53f8c7b8f290",
   "metadata": {
    "ExecuteTime": {
     "end_time": "2024-05-13T14:40:01.453456Z",
     "start_time": "2024-05-13T14:40:01.439970Z"
    }
   },
   "outputs": [
    {
     "name": "stderr",
     "output_type": "stream",
     "text": [
      "C:\\Users\\krush\\AppData\\Local\\Temp\\ipykernel_5512\\3800647854.py:2: FutureWarning: Downcasting behavior in `replace` is deprecated and will be removed in a future version. To retain the old behavior, explicitly call `result.infer_objects(copy=False)`. To opt-in to the future behavior, set `pd.set_option('future.no_silent_downcasting', True)`\n",
      "  df=df.replace(to_replace=\"NAN\",value=30)\n"
     ]
    },
    {
     "data": {
      "text/plain": "      Name  Age Gender  Marks\n0      Adi   17      M     90\n1  Deeksha   17      F     76\n2    Jincy   18      F     30\n3  Keerthi   17      F     74\n4   Harish   18      M     65\n5      Anu   17      F     30\n6      Ram   17      M     71",
      "text/html": "<div>\n<style scoped>\n    .dataframe tbody tr th:only-of-type {\n        vertical-align: middle;\n    }\n\n    .dataframe tbody tr th {\n        vertical-align: top;\n    }\n\n    .dataframe thead th {\n        text-align: right;\n    }\n</style>\n<table border=\"1\" class=\"dataframe\">\n  <thead>\n    <tr style=\"text-align: right;\">\n      <th></th>\n      <th>Name</th>\n      <th>Age</th>\n      <th>Gender</th>\n      <th>Marks</th>\n    </tr>\n  </thead>\n  <tbody>\n    <tr>\n      <th>0</th>\n      <td>Adi</td>\n      <td>17</td>\n      <td>M</td>\n      <td>90</td>\n    </tr>\n    <tr>\n      <th>1</th>\n      <td>Deeksha</td>\n      <td>17</td>\n      <td>F</td>\n      <td>76</td>\n    </tr>\n    <tr>\n      <th>2</th>\n      <td>Jincy</td>\n      <td>18</td>\n      <td>F</td>\n      <td>30</td>\n    </tr>\n    <tr>\n      <th>3</th>\n      <td>Keerthi</td>\n      <td>17</td>\n      <td>F</td>\n      <td>74</td>\n    </tr>\n    <tr>\n      <th>4</th>\n      <td>Harish</td>\n      <td>18</td>\n      <td>M</td>\n      <td>65</td>\n    </tr>\n    <tr>\n      <th>5</th>\n      <td>Anu</td>\n      <td>17</td>\n      <td>F</td>\n      <td>30</td>\n    </tr>\n    <tr>\n      <th>6</th>\n      <td>Ram</td>\n      <td>17</td>\n      <td>M</td>\n      <td>71</td>\n    </tr>\n  </tbody>\n</table>\n</div>"
     },
     "execution_count": 5,
     "metadata": {},
     "output_type": "execute_result"
    }
   ],
   "source": [
    "#replacing \"NAN\" values with appropriate operable value.\n",
    "df=df.replace(to_replace=\"NAN\",value=30)\n",
    "#Printing the head of dataframe\n",
    "df"
   ]
  },
  {
   "cell_type": "code",
   "execution_count": 6,
   "id": "1757a7c0-53ae-4768-88dd-9d6778aefa26",
   "metadata": {
    "ExecuteTime": {
     "end_time": "2024-05-13T14:40:01.464455Z",
     "start_time": "2024-05-13T14:40:01.454694Z"
    }
   },
   "outputs": [
    {
     "data": {
      "text/plain": "      Name  Age  Gender  Marks\n0      Adi   17       0     90\n1  Deeksha   17       1     76\n2    Jincy   18       1     30\n3  Keerthi   17       1     74\n4   Harish   18       0     65\n5      Anu   17       1     30\n6      Ram   17       0     71",
      "text/html": "<div>\n<style scoped>\n    .dataframe tbody tr th:only-of-type {\n        vertical-align: middle;\n    }\n\n    .dataframe tbody tr th {\n        vertical-align: top;\n    }\n\n    .dataframe thead th {\n        text-align: right;\n    }\n</style>\n<table border=\"1\" class=\"dataframe\">\n  <thead>\n    <tr style=\"text-align: right;\">\n      <th></th>\n      <th>Name</th>\n      <th>Age</th>\n      <th>Gender</th>\n      <th>Marks</th>\n    </tr>\n  </thead>\n  <tbody>\n    <tr>\n      <th>0</th>\n      <td>Adi</td>\n      <td>17</td>\n      <td>0</td>\n      <td>90</td>\n    </tr>\n    <tr>\n      <th>1</th>\n      <td>Deeksha</td>\n      <td>17</td>\n      <td>1</td>\n      <td>76</td>\n    </tr>\n    <tr>\n      <th>2</th>\n      <td>Jincy</td>\n      <td>18</td>\n      <td>1</td>\n      <td>30</td>\n    </tr>\n    <tr>\n      <th>3</th>\n      <td>Keerthi</td>\n      <td>17</td>\n      <td>1</td>\n      <td>74</td>\n    </tr>\n    <tr>\n      <th>4</th>\n      <td>Harish</td>\n      <td>18</td>\n      <td>0</td>\n      <td>65</td>\n    </tr>\n    <tr>\n      <th>5</th>\n      <td>Anu</td>\n      <td>17</td>\n      <td>1</td>\n      <td>30</td>\n    </tr>\n    <tr>\n      <th>6</th>\n      <td>Ram</td>\n      <td>17</td>\n      <td>0</td>\n      <td>71</td>\n    </tr>\n  </tbody>\n</table>\n</div>"
     },
     "execution_count": 6,
     "metadata": {},
     "output_type": "execute_result"
    }
   ],
   "source": [
    "#replacing categorical values \"M\" and \"F\" with Numeric Variable.\n",
    "df['Gender']=df['Gender'].map({'M':0,'F':1})\n",
    "#Printing the head of dataframe\n",
    "df"
   ]
  },
  {
   "cell_type": "code",
   "execution_count": 7,
   "id": "117a4b501da9c7f0",
   "metadata": {
    "collapsed": false,
    "ExecuteTime": {
     "end_time": "2024-05-13T14:40:01.475708Z",
     "start_time": "2024-05-13T14:40:01.465950Z"
    }
   },
   "outputs": [
    {
     "data": {
      "text/plain": "      Name  Age  Gender  Marks\n0      Adi   17       0     90\n1  Deeksha   17       1     76",
      "text/html": "<div>\n<style scoped>\n    .dataframe tbody tr th:only-of-type {\n        vertical-align: middle;\n    }\n\n    .dataframe tbody tr th {\n        vertical-align: top;\n    }\n\n    .dataframe thead th {\n        text-align: right;\n    }\n</style>\n<table border=\"1\" class=\"dataframe\">\n  <thead>\n    <tr style=\"text-align: right;\">\n      <th></th>\n      <th>Name</th>\n      <th>Age</th>\n      <th>Gender</th>\n      <th>Marks</th>\n    </tr>\n  </thead>\n  <tbody>\n    <tr>\n      <th>0</th>\n      <td>Adi</td>\n      <td>17</td>\n      <td>0</td>\n      <td>90</td>\n    </tr>\n    <tr>\n      <th>1</th>\n      <td>Deeksha</td>\n      <td>17</td>\n      <td>1</td>\n      <td>76</td>\n    </tr>\n  </tbody>\n</table>\n</div>"
     },
     "execution_count": 7,
     "metadata": {},
     "output_type": "execute_result"
    }
   ],
   "source": [
    "#filtering data on the basis of the Marks\n",
    "df[df['Marks'] >= 75]"
   ]
  },
  {
   "cell_type": "code",
   "execution_count": 8,
   "id": "0ce17a52-64e7-470d-ba04-748fb615c40c",
   "metadata": {
    "ExecuteTime": {
     "end_time": "2024-05-13T14:40:01.487948Z",
     "start_time": "2024-05-13T14:40:01.478185Z"
    }
   },
   "outputs": [
    {
     "data": {
      "text/plain": "      Name  Gender  Marks\n0      Adi       0     90\n1  Deeksha       1     76\n2    Jincy       1     30\n3  Keerthi       1     74\n4   Harish       0     65\n5      Anu       1     30\n6      Ram       0     71",
      "text/html": "<div>\n<style scoped>\n    .dataframe tbody tr th:only-of-type {\n        vertical-align: middle;\n    }\n\n    .dataframe tbody tr th {\n        vertical-align: top;\n    }\n\n    .dataframe thead th {\n        text-align: right;\n    }\n</style>\n<table border=\"1\" class=\"dataframe\">\n  <thead>\n    <tr style=\"text-align: right;\">\n      <th></th>\n      <th>Name</th>\n      <th>Gender</th>\n      <th>Marks</th>\n    </tr>\n  </thead>\n  <tbody>\n    <tr>\n      <th>0</th>\n      <td>Adi</td>\n      <td>0</td>\n      <td>90</td>\n    </tr>\n    <tr>\n      <th>1</th>\n      <td>Deeksha</td>\n      <td>1</td>\n      <td>76</td>\n    </tr>\n    <tr>\n      <th>2</th>\n      <td>Jincy</td>\n      <td>1</td>\n      <td>30</td>\n    </tr>\n    <tr>\n      <th>3</th>\n      <td>Keerthi</td>\n      <td>1</td>\n      <td>74</td>\n    </tr>\n    <tr>\n      <th>4</th>\n      <td>Harish</td>\n      <td>0</td>\n      <td>65</td>\n    </tr>\n    <tr>\n      <th>5</th>\n      <td>Anu</td>\n      <td>1</td>\n      <td>30</td>\n    </tr>\n    <tr>\n      <th>6</th>\n      <td>Ram</td>\n      <td>0</td>\n      <td>71</td>\n    </tr>\n  </tbody>\n</table>\n</div>"
     },
     "execution_count": 8,
     "metadata": {},
     "output_type": "execute_result"
    }
   ],
   "source": [
    "#Removing the Age Coloumn\n",
    "df=df.drop(['Age'],axis=1)\n",
    "df"
   ]
  },
  {
   "cell_type": "code",
   "execution_count": 9,
   "id": "4a4b25c9-85ca-4407-8cd2-8d078dadb495",
   "metadata": {
    "ExecuteTime": {
     "end_time": "2024-05-13T14:40:01.495380Z",
     "start_time": "2024-05-13T14:40:01.489028Z"
    }
   },
   "outputs": [
    {
     "data": {
      "text/plain": "-0.7576687139994032"
     },
     "execution_count": 9,
     "metadata": {},
     "output_type": "execute_result"
    }
   ],
   "source": [
    "#Calculating the Coefficient of skewness\n",
    "df['Marks'].skew()"
   ]
  },
  {
   "cell_type": "code",
   "execution_count": 10,
   "id": "78d32982-94b3-4628-9cdc-d984465f04e8",
   "metadata": {
    "ExecuteTime": {
     "end_time": "2024-05-13T14:40:01.506513Z",
     "start_time": "2024-05-13T14:40:01.496436Z"
    }
   },
   "outputs": [
    {
     "data": {
      "text/plain": "count     7.000000\nmean     62.285714\nstd      23.314618\nmin      30.000000\n25%      47.500000\n50%      71.000000\n75%      75.000000\nmax      90.000000\nName: Marks, dtype: float64"
     },
     "execution_count": 10,
     "metadata": {},
     "output_type": "execute_result"
    }
   ],
   "source": [
    "#Getting Statistical Data of the dataframe\n",
    "df['Marks'].describe()"
   ]
  },
  {
   "cell_type": "code",
   "execution_count": 11,
   "id": "97b14b5e-94c5-4757-9386-ebc1dbf491b0",
   "metadata": {
    "ExecuteTime": {
     "end_time": "2024-05-13T14:40:01.738004Z",
     "start_time": "2024-05-13T14:40:01.507560Z"
    }
   },
   "outputs": [
    {
     "data": {
      "text/plain": "{'whiskers': [<matplotlib.lines.Line2D at 0x19bafd5d0a0>,\n  <matplotlib.lines.Line2D at 0x19bafd5da90>],\n 'caps': [<matplotlib.lines.Line2D at 0x19bafd5d0d0>,\n  <matplotlib.lines.Line2D at 0x19bafd5e000>],\n 'boxes': [<matplotlib.lines.Line2D at 0x19bafd5d700>],\n 'medians': [<matplotlib.lines.Line2D at 0x19bafd5e2d0>],\n 'fliers': [<matplotlib.lines.Line2D at 0x19bafd5e570>],\n 'means': []}"
     },
     "execution_count": 11,
     "metadata": {},
     "output_type": "execute_result"
    },
    {
     "data": {
      "text/plain": "<Figure size 640x480 with 1 Axes>",
      "image/png": "[encoded data removed]"
     },
     "metadata": {},
     "output_type": "display_data"
    }
   ],
   "source": [
    "#Plotting the Boxplot of the Mark\n",
    "plt.boxplot(df['Marks'])"
   ]
  }
 ],
 "metadata": {
  "kernelspec": {
   "display_name": "Python 3 (ipykernel)",
   "language": "python",
   "name": "python3"
  },
  "language_info": {
   "codemirror_mode": {
    "name": "ipython",
    "version": 3
   },
   "file_extension": ".py",
   "mimetype": "text/x-python",
   "name": "python",
   "nbconvert_exporter": "python",
   "pygments_lexer": "ipython3",
   "version": "3.12.1"
  }
 },
 "nbformat": 4,
 "nbformat_minor": 5
}
