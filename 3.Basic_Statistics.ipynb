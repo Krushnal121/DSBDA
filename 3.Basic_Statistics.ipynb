{
 "cells": [
  {
   "cell_type": "code",
   "execution_count": 2,
   "id": "initial_id",
   "metadata": {
    "ExecuteTime": {
     "end_time": "2024-05-01T05:52:39.464429Z",
     "start_time": "2024-05-01T05:52:39.460220Z"
    }
   },
   "outputs": [],
   "source": [
    "##importing Libraries\n",
    "import pandas as pd\n",
    "import seaborn as sns"
   ]
  },
  {
   "cell_type": "code",
   "execution_count": 3,
   "id": "7079fb7c",
   "metadata": {
    "ExecuteTime": {
     "end_time": "2024-05-01T05:52:39.519917Z",
     "start_time": "2024-05-01T05:52:39.466104Z"
    }
   },
   "outputs": [
    {
     "data": {
      "text/html": [
       "<div>\n",
       "<style scoped>\n",
       "    .dataframe tbody tr th:only-of-type {\n",
       "        vertical-align: middle;\n",
       "    }\n",
       "\n",
       "    .dataframe tbody tr th {\n",
       "        vertical-align: top;\n",
       "    }\n",
       "\n",
       "    .dataframe thead th {\n",
       "        text-align: right;\n",
       "    }\n",
       "</style>\n",
       "<table border=\"1\" class=\"dataframe\">\n",
       "  <thead>\n",
       "    <tr style=\"text-align: right;\">\n",
       "      <th></th>\n",
       "      <th>Id</th>\n",
       "      <th>SepalLengthCm</th>\n",
       "      <th>SepalWidthCm</th>\n",
       "      <th>PetalLengthCm</th>\n",
       "      <th>PetalWidthCm</th>\n",
       "      <th>Species</th>\n",
       "    </tr>\n",
       "  </thead>\n",
       "  <tbody>\n",
       "    <tr>\n",
       "      <th>0</th>\n",
       "      <td>1</td>\n",
       "      <td>5.1</td>\n",
       "      <td>3.5</td>\n",
       "      <td>1.4</td>\n",
       "      <td>0.2</td>\n",
       "      <td>Iris-setosa</td>\n",
       "    </tr>\n",
       "    <tr>\n",
       "      <th>1</th>\n",
       "      <td>2</td>\n",
       "      <td>4.9</td>\n",
       "      <td>3.0</td>\n",
       "      <td>1.4</td>\n",
       "      <td>0.2</td>\n",
       "      <td>Iris-setosa</td>\n",
       "    </tr>\n",
       "    <tr>\n",
       "      <th>2</th>\n",
       "      <td>3</td>\n",
       "      <td>4.7</td>\n",
       "      <td>3.2</td>\n",
       "      <td>1.3</td>\n",
       "      <td>0.2</td>\n",
       "      <td>Iris-setosa</td>\n",
       "    </tr>\n",
       "    <tr>\n",
       "      <th>3</th>\n",
       "      <td>4</td>\n",
       "      <td>4.6</td>\n",
       "      <td>3.1</td>\n",
       "      <td>1.5</td>\n",
       "      <td>0.2</td>\n",
       "      <td>Iris-setosa</td>\n",
       "    </tr>\n",
       "    <tr>\n",
       "      <th>4</th>\n",
       "      <td>5</td>\n",
       "      <td>5.0</td>\n",
       "      <td>3.6</td>\n",
       "      <td>1.4</td>\n",
       "      <td>0.2</td>\n",
       "      <td>Iris-setosa</td>\n",
       "    </tr>\n",
       "  </tbody>\n",
       "</table>\n",
       "</div>"
      ],
      "text/plain": [
       "   Id  SepalLengthCm  SepalWidthCm  PetalLengthCm  PetalWidthCm      Species\n",
       "0   1            5.1           3.5            1.4           0.2  Iris-setosa\n",
       "1   2            4.9           3.0            1.4           0.2  Iris-setosa\n",
       "2   3            4.7           3.2            1.3           0.2  Iris-setosa\n",
       "3   4            4.6           3.1            1.5           0.2  Iris-setosa\n",
       "4   5            5.0           3.6            1.4           0.2  Iris-setosa"
      ]
     },
     "execution_count": 3,
     "metadata": {},
     "output_type": "execute_result"
    }
   ],
   "source": [
    "#Loading the dataset into the dataframe\n",
    "df=pd.read_csv(\"./Iris.csv\")\n",
    "#Printing Head of dataframe\n",
    "df.head()"
   ]
  },
  {
   "cell_type": "code",
   "execution_count": 4,
   "id": "c55f4471",
   "metadata": {
    "ExecuteTime": {
     "end_time": "2024-05-01T05:52:39.537360Z",
     "start_time": "2024-05-01T05:52:39.526688Z"
    }
   },
   "outputs": [
    {
     "data": {
      "text/plain": [
       "count             150\n",
       "unique              3\n",
       "top       Iris-setosa\n",
       "freq               50\n",
       "Name: Species, dtype: object"
      ]
     },
     "execution_count": 4,
     "metadata": {},
     "output_type": "execute_result"
    }
   ],
   "source": [
    "#Describing the Column\n",
    "df['Species'].describe()"
   ]
  },
  {
   "cell_type": "code",
   "execution_count": 5,
   "id": "1c7312f1",
   "metadata": {
    "ExecuteTime": {
     "end_time": "2024-05-01T05:52:39.550624Z",
     "start_time": "2024-05-01T05:52:39.542435Z"
    }
   },
   "outputs": [
    {
     "data": {
      "text/plain": [
       "array(['Iris-setosa', 'Iris-versicolor', 'Iris-virginica'], dtype=object)"
      ]
     },
     "execution_count": 5,
     "metadata": {},
     "output_type": "execute_result"
    }
   ],
   "source": [
    "#getting the unique Values from the Species Column\n",
    "df['Species'].unique()"
   ]
  },
  {
   "cell_type": "code",
   "execution_count": 6,
   "id": "9ee9b9c3",
   "metadata": {
    "ExecuteTime": {
     "end_time": "2024-05-01T05:52:39.563444Z",
     "start_time": "2024-05-01T05:52:39.552683Z"
    }
   },
   "outputs": [],
   "source": [
    "#Getting Independent dataframes for each Species\n",
    "setosadf=df[df['Species']=='Iris-setosa']\n",
    "versicolordf=df[df['Species']=='Iris-versicolor']\n",
    "virginicadf=df[df['Species']=='Iris-virginica']"
   ]
  },
  {
   "cell_type": "markdown",
   "id": "96601309",
   "metadata": {},
   "source": [
    "# Describing Each Species Dataframes"
   ]
  },
  {
   "cell_type": "markdown",
   "id": "cfa6aad5-629c-408e-aa0c-80d06728b688",
   "metadata": {},
   "source": [
    "## Iris-Setosa"
   ]
  },
  {
   "cell_type": "code",
   "execution_count": 7,
   "id": "43990c0c-92d2-400a-b67b-cb8572f237d7",
   "metadata": {
    "ExecuteTime": {
     "end_time": "2024-05-01T05:52:39.596224Z",
     "start_time": "2024-05-01T05:52:39.565856Z"
    }
   },
   "outputs": [
    {
     "data": {
      "text/html": [
       "<div>\n",
       "<style scoped>\n",
       "    .dataframe tbody tr th:only-of-type {\n",
       "        vertical-align: middle;\n",
       "    }\n",
       "\n",
       "    .dataframe tbody tr th {\n",
       "        vertical-align: top;\n",
       "    }\n",
       "\n",
       "    .dataframe thead th {\n",
       "        text-align: right;\n",
       "    }\n",
       "</style>\n",
       "<table border=\"1\" class=\"dataframe\">\n",
       "  <thead>\n",
       "    <tr style=\"text-align: right;\">\n",
       "      <th></th>\n",
       "      <th>Id</th>\n",
       "      <th>SepalLengthCm</th>\n",
       "      <th>SepalWidthCm</th>\n",
       "      <th>PetalLengthCm</th>\n",
       "      <th>PetalWidthCm</th>\n",
       "      <th>Species</th>\n",
       "    </tr>\n",
       "  </thead>\n",
       "  <tbody>\n",
       "    <tr>\n",
       "      <th>0</th>\n",
       "      <td>1</td>\n",
       "      <td>5.1</td>\n",
       "      <td>3.5</td>\n",
       "      <td>1.4</td>\n",
       "      <td>0.2</td>\n",
       "      <td>Iris-setosa</td>\n",
       "    </tr>\n",
       "    <tr>\n",
       "      <th>1</th>\n",
       "      <td>2</td>\n",
       "      <td>4.9</td>\n",
       "      <td>3.0</td>\n",
       "      <td>1.4</td>\n",
       "      <td>0.2</td>\n",
       "      <td>Iris-setosa</td>\n",
       "    </tr>\n",
       "    <tr>\n",
       "      <th>2</th>\n",
       "      <td>3</td>\n",
       "      <td>4.7</td>\n",
       "      <td>3.2</td>\n",
       "      <td>1.3</td>\n",
       "      <td>0.2</td>\n",
       "      <td>Iris-setosa</td>\n",
       "    </tr>\n",
       "    <tr>\n",
       "      <th>3</th>\n",
       "      <td>4</td>\n",
       "      <td>4.6</td>\n",
       "      <td>3.1</td>\n",
       "      <td>1.5</td>\n",
       "      <td>0.2</td>\n",
       "      <td>Iris-setosa</td>\n",
       "    </tr>\n",
       "    <tr>\n",
       "      <th>4</th>\n",
       "      <td>5</td>\n",
       "      <td>5.0</td>\n",
       "      <td>3.6</td>\n",
       "      <td>1.4</td>\n",
       "      <td>0.2</td>\n",
       "      <td>Iris-setosa</td>\n",
       "    </tr>\n",
       "  </tbody>\n",
       "</table>\n",
       "</div>"
      ],
      "text/plain": [
       "   Id  SepalLengthCm  SepalWidthCm  PetalLengthCm  PetalWidthCm      Species\n",
       "0   1            5.1           3.5            1.4           0.2  Iris-setosa\n",
       "1   2            4.9           3.0            1.4           0.2  Iris-setosa\n",
       "2   3            4.7           3.2            1.3           0.2  Iris-setosa\n",
       "3   4            4.6           3.1            1.5           0.2  Iris-setosa\n",
       "4   5            5.0           3.6            1.4           0.2  Iris-setosa"
      ]
     },
     "execution_count": 7,
     "metadata": {},
     "output_type": "execute_result"
    }
   ],
   "source": [
    "setosadf.head()"
   ]
  },
  {
   "cell_type": "code",
   "execution_count": 8,
   "id": "a2e48316-fe82-411a-8a31-1a28020cf2cc",
   "metadata": {},
   "outputs": [
    {
     "data": {
      "text/html": [
       "<div>\n",
       "<style scoped>\n",
       "    .dataframe tbody tr th:only-of-type {\n",
       "        vertical-align: middle;\n",
       "    }\n",
       "\n",
       "    .dataframe tbody tr th {\n",
       "        vertical-align: top;\n",
       "    }\n",
       "\n",
       "    .dataframe thead th {\n",
       "        text-align: right;\n",
       "    }\n",
       "</style>\n",
       "<table border=\"1\" class=\"dataframe\">\n",
       "  <thead>\n",
       "    <tr style=\"text-align: right;\">\n",
       "      <th></th>\n",
       "      <th>Id</th>\n",
       "      <th>SepalLengthCm</th>\n",
       "      <th>SepalWidthCm</th>\n",
       "      <th>PetalLengthCm</th>\n",
       "      <th>PetalWidthCm</th>\n",
       "    </tr>\n",
       "  </thead>\n",
       "  <tbody>\n",
       "    <tr>\n",
       "      <th>count</th>\n",
       "      <td>50.00000</td>\n",
       "      <td>50.00000</td>\n",
       "      <td>50.000000</td>\n",
       "      <td>50.000000</td>\n",
       "      <td>50.00000</td>\n",
       "    </tr>\n",
       "    <tr>\n",
       "      <th>mean</th>\n",
       "      <td>25.50000</td>\n",
       "      <td>5.00600</td>\n",
       "      <td>3.418000</td>\n",
       "      <td>1.464000</td>\n",
       "      <td>0.24400</td>\n",
       "    </tr>\n",
       "    <tr>\n",
       "      <th>std</th>\n",
       "      <td>14.57738</td>\n",
       "      <td>0.35249</td>\n",
       "      <td>0.381024</td>\n",
       "      <td>0.173511</td>\n",
       "      <td>0.10721</td>\n",
       "    </tr>\n",
       "    <tr>\n",
       "      <th>min</th>\n",
       "      <td>1.00000</td>\n",
       "      <td>4.30000</td>\n",
       "      <td>2.300000</td>\n",
       "      <td>1.000000</td>\n",
       "      <td>0.10000</td>\n",
       "    </tr>\n",
       "    <tr>\n",
       "      <th>25%</th>\n",
       "      <td>13.25000</td>\n",
       "      <td>4.80000</td>\n",
       "      <td>3.125000</td>\n",
       "      <td>1.400000</td>\n",
       "      <td>0.20000</td>\n",
       "    </tr>\n",
       "    <tr>\n",
       "      <th>50%</th>\n",
       "      <td>25.50000</td>\n",
       "      <td>5.00000</td>\n",
       "      <td>3.400000</td>\n",
       "      <td>1.500000</td>\n",
       "      <td>0.20000</td>\n",
       "    </tr>\n",
       "    <tr>\n",
       "      <th>75%</th>\n",
       "      <td>37.75000</td>\n",
       "      <td>5.20000</td>\n",
       "      <td>3.675000</td>\n",
       "      <td>1.575000</td>\n",
       "      <td>0.30000</td>\n",
       "    </tr>\n",
       "    <tr>\n",
       "      <th>max</th>\n",
       "      <td>50.00000</td>\n",
       "      <td>5.80000</td>\n",
       "      <td>4.400000</td>\n",
       "      <td>1.900000</td>\n",
       "      <td>0.60000</td>\n",
       "    </tr>\n",
       "  </tbody>\n",
       "</table>\n",
       "</div>"
      ],
      "text/plain": [
       "             Id  SepalLengthCm  SepalWidthCm  PetalLengthCm  PetalWidthCm\n",
       "count  50.00000       50.00000     50.000000      50.000000      50.00000\n",
       "mean   25.50000        5.00600      3.418000       1.464000       0.24400\n",
       "std    14.57738        0.35249      0.381024       0.173511       0.10721\n",
       "min     1.00000        4.30000      2.300000       1.000000       0.10000\n",
       "25%    13.25000        4.80000      3.125000       1.400000       0.20000\n",
       "50%    25.50000        5.00000      3.400000       1.500000       0.20000\n",
       "75%    37.75000        5.20000      3.675000       1.575000       0.30000\n",
       "max    50.00000        5.80000      4.400000       1.900000       0.60000"
      ]
     },
     "execution_count": 8,
     "metadata": {},
     "output_type": "execute_result"
    }
   ],
   "source": [
    "setosadf.describe()"
   ]
  },
  {
   "cell_type": "markdown",
   "id": "dcb432a6",
   "metadata": {},
   "source": [
    "##  Iris-versicolor"
   ]
  },
  {
   "cell_type": "code",
   "execution_count": 20,
   "id": "51ffc876",
   "metadata": {},
   "outputs": [
    {
     "data": {
      "text/html": [
       "<div>\n",
       "<style scoped>\n",
       "    .dataframe tbody tr th:only-of-type {\n",
       "        vertical-align: middle;\n",
       "    }\n",
       "\n",
       "    .dataframe tbody tr th {\n",
       "        vertical-align: top;\n",
       "    }\n",
       "\n",
       "    .dataframe thead th {\n",
       "        text-align: right;\n",
       "    }\n",
       "</style>\n",
       "<table border=\"1\" class=\"dataframe\">\n",
       "  <thead>\n",
       "    <tr style=\"text-align: right;\">\n",
       "      <th></th>\n",
       "      <th>Id</th>\n",
       "      <th>SepalLengthCm</th>\n",
       "      <th>SepalWidthCm</th>\n",
       "      <th>PetalLengthCm</th>\n",
       "      <th>PetalWidthCm</th>\n",
       "      <th>Species</th>\n",
       "    </tr>\n",
       "  </thead>\n",
       "  <tbody>\n",
       "    <tr>\n",
       "      <th>50</th>\n",
       "      <td>51</td>\n",
       "      <td>7.0</td>\n",
       "      <td>3.2</td>\n",
       "      <td>4.7</td>\n",
       "      <td>1.4</td>\n",
       "      <td>Iris-versicolor</td>\n",
       "    </tr>\n",
       "    <tr>\n",
       "      <th>51</th>\n",
       "      <td>52</td>\n",
       "      <td>6.4</td>\n",
       "      <td>3.2</td>\n",
       "      <td>4.5</td>\n",
       "      <td>1.5</td>\n",
       "      <td>Iris-versicolor</td>\n",
       "    </tr>\n",
       "    <tr>\n",
       "      <th>52</th>\n",
       "      <td>53</td>\n",
       "      <td>6.9</td>\n",
       "      <td>3.1</td>\n",
       "      <td>4.9</td>\n",
       "      <td>1.5</td>\n",
       "      <td>Iris-versicolor</td>\n",
       "    </tr>\n",
       "    <tr>\n",
       "      <th>53</th>\n",
       "      <td>54</td>\n",
       "      <td>5.5</td>\n",
       "      <td>2.3</td>\n",
       "      <td>4.0</td>\n",
       "      <td>1.3</td>\n",
       "      <td>Iris-versicolor</td>\n",
       "    </tr>\n",
       "    <tr>\n",
       "      <th>54</th>\n",
       "      <td>55</td>\n",
       "      <td>6.5</td>\n",
       "      <td>2.8</td>\n",
       "      <td>4.6</td>\n",
       "      <td>1.5</td>\n",
       "      <td>Iris-versicolor</td>\n",
       "    </tr>\n",
       "  </tbody>\n",
       "</table>\n",
       "</div>"
      ],
      "text/plain": [
       "    Id  SepalLengthCm  SepalWidthCm  PetalLengthCm  PetalWidthCm  \\\n",
       "50  51            7.0           3.2            4.7           1.4   \n",
       "51  52            6.4           3.2            4.5           1.5   \n",
       "52  53            6.9           3.1            4.9           1.5   \n",
       "53  54            5.5           2.3            4.0           1.3   \n",
       "54  55            6.5           2.8            4.6           1.5   \n",
       "\n",
       "            Species  \n",
       "50  Iris-versicolor  \n",
       "51  Iris-versicolor  \n",
       "52  Iris-versicolor  \n",
       "53  Iris-versicolor  \n",
       "54  Iris-versicolor  "
      ]
     },
     "execution_count": 20,
     "metadata": {},
     "output_type": "execute_result"
    }
   ],
   "source": [
    "versicolordf.head()"
   ]
  },
  {
   "cell_type": "code",
   "execution_count": 21,
   "id": "0d5827c5",
   "metadata": {},
   "outputs": [
    {
     "data": {
      "text/html": [
       "<div>\n",
       "<style scoped>\n",
       "    .dataframe tbody tr th:only-of-type {\n",
       "        vertical-align: middle;\n",
       "    }\n",
       "\n",
       "    .dataframe tbody tr th {\n",
       "        vertical-align: top;\n",
       "    }\n",
       "\n",
       "    .dataframe thead th {\n",
       "        text-align: right;\n",
       "    }\n",
       "</style>\n",
       "<table border=\"1\" class=\"dataframe\">\n",
       "  <thead>\n",
       "    <tr style=\"text-align: right;\">\n",
       "      <th></th>\n",
       "      <th>Id</th>\n",
       "      <th>SepalLengthCm</th>\n",
       "      <th>SepalWidthCm</th>\n",
       "      <th>PetalLengthCm</th>\n",
       "      <th>PetalWidthCm</th>\n",
       "    </tr>\n",
       "  </thead>\n",
       "  <tbody>\n",
       "    <tr>\n",
       "      <th>count</th>\n",
       "      <td>50.00000</td>\n",
       "      <td>50.000000</td>\n",
       "      <td>50.000000</td>\n",
       "      <td>50.000000</td>\n",
       "      <td>50.000000</td>\n",
       "    </tr>\n",
       "    <tr>\n",
       "      <th>mean</th>\n",
       "      <td>75.50000</td>\n",
       "      <td>5.936000</td>\n",
       "      <td>2.770000</td>\n",
       "      <td>4.260000</td>\n",
       "      <td>1.326000</td>\n",
       "    </tr>\n",
       "    <tr>\n",
       "      <th>std</th>\n",
       "      <td>14.57738</td>\n",
       "      <td>0.516171</td>\n",
       "      <td>0.313798</td>\n",
       "      <td>0.469911</td>\n",
       "      <td>0.197753</td>\n",
       "    </tr>\n",
       "    <tr>\n",
       "      <th>min</th>\n",
       "      <td>51.00000</td>\n",
       "      <td>4.900000</td>\n",
       "      <td>2.000000</td>\n",
       "      <td>3.000000</td>\n",
       "      <td>1.000000</td>\n",
       "    </tr>\n",
       "    <tr>\n",
       "      <th>25%</th>\n",
       "      <td>63.25000</td>\n",
       "      <td>5.600000</td>\n",
       "      <td>2.525000</td>\n",
       "      <td>4.000000</td>\n",
       "      <td>1.200000</td>\n",
       "    </tr>\n",
       "    <tr>\n",
       "      <th>50%</th>\n",
       "      <td>75.50000</td>\n",
       "      <td>5.900000</td>\n",
       "      <td>2.800000</td>\n",
       "      <td>4.350000</td>\n",
       "      <td>1.300000</td>\n",
       "    </tr>\n",
       "    <tr>\n",
       "      <th>75%</th>\n",
       "      <td>87.75000</td>\n",
       "      <td>6.300000</td>\n",
       "      <td>3.000000</td>\n",
       "      <td>4.600000</td>\n",
       "      <td>1.500000</td>\n",
       "    </tr>\n",
       "    <tr>\n",
       "      <th>max</th>\n",
       "      <td>100.00000</td>\n",
       "      <td>7.000000</td>\n",
       "      <td>3.400000</td>\n",
       "      <td>5.100000</td>\n",
       "      <td>1.800000</td>\n",
       "    </tr>\n",
       "  </tbody>\n",
       "</table>\n",
       "</div>"
      ],
      "text/plain": [
       "              Id  SepalLengthCm  SepalWidthCm  PetalLengthCm  PetalWidthCm\n",
       "count   50.00000      50.000000     50.000000      50.000000     50.000000\n",
       "mean    75.50000       5.936000      2.770000       4.260000      1.326000\n",
       "std     14.57738       0.516171      0.313798       0.469911      0.197753\n",
       "min     51.00000       4.900000      2.000000       3.000000      1.000000\n",
       "25%     63.25000       5.600000      2.525000       4.000000      1.200000\n",
       "50%     75.50000       5.900000      2.800000       4.350000      1.300000\n",
       "75%     87.75000       6.300000      3.000000       4.600000      1.500000\n",
       "max    100.00000       7.000000      3.400000       5.100000      1.800000"
      ]
     },
     "execution_count": 21,
     "metadata": {},
     "output_type": "execute_result"
    }
   ],
   "source": [
    "versicolordf.describe()"
   ]
  },
  {
   "cell_type": "markdown",
   "id": "3172b355",
   "metadata": {},
   "source": [
    "## Iris-virginica"
   ]
  },
  {
   "cell_type": "code",
   "execution_count": 22,
   "id": "b441fc43",
   "metadata": {},
   "outputs": [
    {
     "data": {
      "text/html": [
       "<div>\n",
       "<style scoped>\n",
       "    .dataframe tbody tr th:only-of-type {\n",
       "        vertical-align: middle;\n",
       "    }\n",
       "\n",
       "    .dataframe tbody tr th {\n",
       "        vertical-align: top;\n",
       "    }\n",
       "\n",
       "    .dataframe thead th {\n",
       "        text-align: right;\n",
       "    }\n",
       "</style>\n",
       "<table border=\"1\" class=\"dataframe\">\n",
       "  <thead>\n",
       "    <tr style=\"text-align: right;\">\n",
       "      <th></th>\n",
       "      <th>Id</th>\n",
       "      <th>SepalLengthCm</th>\n",
       "      <th>SepalWidthCm</th>\n",
       "      <th>PetalLengthCm</th>\n",
       "      <th>PetalWidthCm</th>\n",
       "      <th>Species</th>\n",
       "    </tr>\n",
       "  </thead>\n",
       "  <tbody>\n",
       "    <tr>\n",
       "      <th>100</th>\n",
       "      <td>101</td>\n",
       "      <td>6.3</td>\n",
       "      <td>3.3</td>\n",
       "      <td>6.0</td>\n",
       "      <td>2.5</td>\n",
       "      <td>Iris-virginica</td>\n",
       "    </tr>\n",
       "    <tr>\n",
       "      <th>101</th>\n",
       "      <td>102</td>\n",
       "      <td>5.8</td>\n",
       "      <td>2.7</td>\n",
       "      <td>5.1</td>\n",
       "      <td>1.9</td>\n",
       "      <td>Iris-virginica</td>\n",
       "    </tr>\n",
       "    <tr>\n",
       "      <th>102</th>\n",
       "      <td>103</td>\n",
       "      <td>7.1</td>\n",
       "      <td>3.0</td>\n",
       "      <td>5.9</td>\n",
       "      <td>2.1</td>\n",
       "      <td>Iris-virginica</td>\n",
       "    </tr>\n",
       "    <tr>\n",
       "      <th>103</th>\n",
       "      <td>104</td>\n",
       "      <td>6.3</td>\n",
       "      <td>2.9</td>\n",
       "      <td>5.6</td>\n",
       "      <td>1.8</td>\n",
       "      <td>Iris-virginica</td>\n",
       "    </tr>\n",
       "    <tr>\n",
       "      <th>104</th>\n",
       "      <td>105</td>\n",
       "      <td>6.5</td>\n",
       "      <td>3.0</td>\n",
       "      <td>5.8</td>\n",
       "      <td>2.2</td>\n",
       "      <td>Iris-virginica</td>\n",
       "    </tr>\n",
       "  </tbody>\n",
       "</table>\n",
       "</div>"
      ],
      "text/plain": [
       "      Id  SepalLengthCm  SepalWidthCm  PetalLengthCm  PetalWidthCm  \\\n",
       "100  101            6.3           3.3            6.0           2.5   \n",
       "101  102            5.8           2.7            5.1           1.9   \n",
       "102  103            7.1           3.0            5.9           2.1   \n",
       "103  104            6.3           2.9            5.6           1.8   \n",
       "104  105            6.5           3.0            5.8           2.2   \n",
       "\n",
       "            Species  \n",
       "100  Iris-virginica  \n",
       "101  Iris-virginica  \n",
       "102  Iris-virginica  \n",
       "103  Iris-virginica  \n",
       "104  Iris-virginica  "
      ]
     },
     "execution_count": 22,
     "metadata": {},
     "output_type": "execute_result"
    }
   ],
   "source": [
    "virginicadf.head()"
   ]
  },
  {
   "cell_type": "code",
   "execution_count": 23,
   "id": "39273073",
   "metadata": {},
   "outputs": [
    {
     "data": {
      "text/html": [
       "<div>\n",
       "<style scoped>\n",
       "    .dataframe tbody tr th:only-of-type {\n",
       "        vertical-align: middle;\n",
       "    }\n",
       "\n",
       "    .dataframe tbody tr th {\n",
       "        vertical-align: top;\n",
       "    }\n",
       "\n",
       "    .dataframe thead th {\n",
       "        text-align: right;\n",
       "    }\n",
       "</style>\n",
       "<table border=\"1\" class=\"dataframe\">\n",
       "  <thead>\n",
       "    <tr style=\"text-align: right;\">\n",
       "      <th></th>\n",
       "      <th>Id</th>\n",
       "      <th>SepalLengthCm</th>\n",
       "      <th>SepalWidthCm</th>\n",
       "      <th>PetalLengthCm</th>\n",
       "      <th>PetalWidthCm</th>\n",
       "    </tr>\n",
       "  </thead>\n",
       "  <tbody>\n",
       "    <tr>\n",
       "      <th>count</th>\n",
       "      <td>50.00000</td>\n",
       "      <td>50.00000</td>\n",
       "      <td>50.000000</td>\n",
       "      <td>50.000000</td>\n",
       "      <td>50.00000</td>\n",
       "    </tr>\n",
       "    <tr>\n",
       "      <th>mean</th>\n",
       "      <td>125.50000</td>\n",
       "      <td>6.58800</td>\n",
       "      <td>2.974000</td>\n",
       "      <td>5.552000</td>\n",
       "      <td>2.02600</td>\n",
       "    </tr>\n",
       "    <tr>\n",
       "      <th>std</th>\n",
       "      <td>14.57738</td>\n",
       "      <td>0.63588</td>\n",
       "      <td>0.322497</td>\n",
       "      <td>0.551895</td>\n",
       "      <td>0.27465</td>\n",
       "    </tr>\n",
       "    <tr>\n",
       "      <th>min</th>\n",
       "      <td>101.00000</td>\n",
       "      <td>4.90000</td>\n",
       "      <td>2.200000</td>\n",
       "      <td>4.500000</td>\n",
       "      <td>1.40000</td>\n",
       "    </tr>\n",
       "    <tr>\n",
       "      <th>25%</th>\n",
       "      <td>113.25000</td>\n",
       "      <td>6.22500</td>\n",
       "      <td>2.800000</td>\n",
       "      <td>5.100000</td>\n",
       "      <td>1.80000</td>\n",
       "    </tr>\n",
       "    <tr>\n",
       "      <th>50%</th>\n",
       "      <td>125.50000</td>\n",
       "      <td>6.50000</td>\n",
       "      <td>3.000000</td>\n",
       "      <td>5.550000</td>\n",
       "      <td>2.00000</td>\n",
       "    </tr>\n",
       "    <tr>\n",
       "      <th>75%</th>\n",
       "      <td>137.75000</td>\n",
       "      <td>6.90000</td>\n",
       "      <td>3.175000</td>\n",
       "      <td>5.875000</td>\n",
       "      <td>2.30000</td>\n",
       "    </tr>\n",
       "    <tr>\n",
       "      <th>max</th>\n",
       "      <td>150.00000</td>\n",
       "      <td>7.90000</td>\n",
       "      <td>3.800000</td>\n",
       "      <td>6.900000</td>\n",
       "      <td>2.50000</td>\n",
       "    </tr>\n",
       "  </tbody>\n",
       "</table>\n",
       "</div>"
      ],
      "text/plain": [
       "              Id  SepalLengthCm  SepalWidthCm  PetalLengthCm  PetalWidthCm\n",
       "count   50.00000       50.00000     50.000000      50.000000      50.00000\n",
       "mean   125.50000        6.58800      2.974000       5.552000       2.02600\n",
       "std     14.57738        0.63588      0.322497       0.551895       0.27465\n",
       "min    101.00000        4.90000      2.200000       4.500000       1.40000\n",
       "25%    113.25000        6.22500      2.800000       5.100000       1.80000\n",
       "50%    125.50000        6.50000      3.000000       5.550000       2.00000\n",
       "75%    137.75000        6.90000      3.175000       5.875000       2.30000\n",
       "max    150.00000        7.90000      3.800000       6.900000       2.50000"
      ]
     },
     "execution_count": 23,
     "metadata": {},
     "output_type": "execute_result"
    }
   ],
   "source": [
    "virginicadf.describe()"
   ]
  },
  {
   "cell_type": "markdown",
   "id": "ab3d5c53",
   "metadata": {},
   "source": [
    "# Plotting the Boxplots of various Properties against Species"
   ]
  },
  {
   "cell_type": "markdown",
   "id": "5a279ee5",
   "metadata": {},
   "source": [
    "## Species Vs SepalLengthCm"
   ]
  },
  {
   "cell_type": "code",
   "execution_count": 26,
   "id": "bfc43e49",
   "metadata": {},
   "outputs": [
    {
     "data": {
      "text/plain": [
       "<Axes: xlabel='Species', ylabel='SepalLengthCm'>"
      ]
     },
     "execution_count": 26,
     "metadata": {},
     "output_type": "execute_result"
    },
    {
     "data": {
      "image/png": "[encoded data removed]",
      "text/plain": [
       "<Figure size 640x480 with 1 Axes>"
      ]
     },
     "metadata": {},
     "output_type": "display_data"
    }
   ],
   "source": [
    "sns.boxplot(data=df, x='Species', y='SepalLengthCm', color=\"#A259FF\")"
   ]
  },
  {
   "cell_type": "markdown",
   "id": "91508278",
   "metadata": {},
   "source": [
    "## Species Vs SepalWidthCm"
   ]
  },
  {
   "cell_type": "code",
   "execution_count": 27,
   "id": "da7052d3",
   "metadata": {},
   "outputs": [
    {
     "data": {
      "text/plain": [
       "<Axes: xlabel='Species', ylabel='SepalWidthCm'>"
      ]
     },
     "execution_count": 27,
     "metadata": {},
     "output_type": "execute_result"
    },
    {
     "data": {
      "image/png": "[encoded data removed]",
      "text/plain": [
       "<Figure size 640x480 with 1 Axes>"
      ]
     },
     "metadata": {},
     "output_type": "display_data"
    }
   ],
   "source": [
    "sns.boxplot(data=df, x='Species', y='SepalWidthCm', color=\"#1ABCFE\")"
   ]
  },
  {
   "cell_type": "markdown",
   "id": "b696e412",
   "metadata": {},
   "source": [
    "## Species Vs PetalLengthCm"
   ]
  },
  {
   "cell_type": "code",
   "execution_count": 28,
   "id": "b7aa0ec8",
   "metadata": {},
   "outputs": [
    {
     "data": {
      "text/plain": [
       "<Axes: xlabel='Species', ylabel='PetalLengthCm'>"
      ]
     },
     "execution_count": 28,
     "metadata": {},
     "output_type": "execute_result"
    },
    {
     "data": {
      "image/png": "[encoded data removed]",
      "text/plain": [
       "<Figure size 640x480 with 1 Axes>"
      ]
     },
     "metadata": {},
     "output_type": "display_data"
    }
   ],
   "source": [
    "sns.boxplot(data=df, x='Species', y='PetalLengthCm', color=\"#0ACF83\")"
   ]
  },
  {
   "cell_type": "markdown",
   "id": "e652a415",
   "metadata": {},
   "source": [
    "## Species Vs PetalWidthCm"
   ]
  },
  {
   "cell_type": "code",
   "execution_count": 29,
   "id": "75f9f434",
   "metadata": {},
   "outputs": [
    {
     "data": {
      "text/plain": [
       "<Axes: xlabel='Species', ylabel='PetalWidthCm'>"
      ]
     },
     "execution_count": 29,
     "metadata": {},
     "output_type": "execute_result"
    },
    {
     "data": {
      "image/png": "[encoded data removed]",
      "text/plain": [
       "<Figure size 640x480 with 1 Axes>"
      ]
     },
     "metadata": {},
     "output_type": "display_data"
    }
   ],
   "source": [
    "sns.boxplot(data=df, x='Species', y='PetalWidthCm', color=\"#FF7262\")"
   ]
  }
 ],
 "metadata": {
  "kernelspec": {
   "display_name": "Python 3 (ipykernel)",
   "language": "python",
   "name": "python3"
  },
  "language_info": {
   "codemirror_mode": {
    "name": "ipython",
    "version": 3
   },
   "file_extension": ".py",
   "mimetype": "text/x-python",
   "name": "python",
   "nbconvert_exporter": "python",
   "pygments_lexer": "ipython3",
   "version": "3.12.1"
  }
 },
 "nbformat": 4,
 "nbformat_minor": 5
}
