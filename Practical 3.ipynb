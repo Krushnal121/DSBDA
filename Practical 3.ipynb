{
 "cells": [
  {
   "cell_type": "code",
   "execution_count": 1,
   "id": "8c1aaf73",
   "metadata": {
    "ExecuteTime": {
     "end_time": "2024-05-13T14:44:03.939356Z",
     "start_time": "2024-05-13T14:44:03.346478Z"
    }
   },
   "outputs": [],
   "source": [
    "import pandas as pd\n",
    "import numpy as np"
   ]
  },
  {
   "cell_type": "code",
   "execution_count": 2,
   "id": "3a4b83f5",
   "metadata": {
    "ExecuteTime": {
     "end_time": "2024-05-13T14:44:03.951389Z",
     "start_time": "2024-05-13T14:44:03.940458Z"
    }
   },
   "outputs": [],
   "source": [
    "data = pd.read_csv('Iris.csv')"
   ]
  },
  {
   "cell_type": "code",
   "execution_count": 3,
   "id": "5ae0fd8d",
   "metadata": {
    "scrolled": true,
    "ExecuteTime": {
     "end_time": "2024-05-13T14:44:03.975437Z",
     "start_time": "2024-05-13T14:44:03.953627Z"
    }
   },
   "outputs": [
    {
     "data": {
      "text/plain": "      Id  SepalLengthCm  SepalWidthCm  PetalLengthCm  PetalWidthCm  \\\n0      1            5.1           3.5            1.4           0.2   \n1      2            4.9           3.0            1.4           0.2   \n2      3            4.7           3.2            1.3           0.2   \n3      4            4.6           3.1            1.5           0.2   \n4      5            5.0           3.6            1.4           0.2   \n..   ...            ...           ...            ...           ...   \n145  146            6.7           3.0            5.2           2.3   \n146  147            6.3           2.5            5.0           1.9   \n147  148            6.5           3.0            5.2           2.0   \n148  149            6.2           3.4            5.4           2.3   \n149  150            5.9           3.0            5.1           1.8   \n\n            Species  \n0       Iris-setosa  \n1       Iris-setosa  \n2       Iris-setosa  \n3       Iris-setosa  \n4       Iris-setosa  \n..              ...  \n145  Iris-virginica  \n146  Iris-virginica  \n147  Iris-virginica  \n148  Iris-virginica  \n149  Iris-virginica  \n\n[150 rows x 6 columns]",
      "text/html": "<div>\n<style scoped>\n    .dataframe tbody tr th:only-of-type {\n        vertical-align: middle;\n    }\n\n    .dataframe tbody tr th {\n        vertical-align: top;\n    }\n\n    .dataframe thead th {\n        text-align: right;\n    }\n</style>\n<table border=\"1\" class=\"dataframe\">\n  <thead>\n    <tr style=\"text-align: right;\">\n      <th></th>\n      <th>Id</th>\n      <th>SepalLengthCm</th>\n      <th>SepalWidthCm</th>\n      <th>PetalLengthCm</th>\n      <th>PetalWidthCm</th>\n      <th>Species</th>\n    </tr>\n  </thead>\n  <tbody>\n    <tr>\n      <th>0</th>\n      <td>1</td>\n      <td>5.1</td>\n      <td>3.5</td>\n      <td>1.4</td>\n      <td>0.2</td>\n      <td>Iris-setosa</td>\n    </tr>\n    <tr>\n      <th>1</th>\n      <td>2</td>\n      <td>4.9</td>\n      <td>3.0</td>\n      <td>1.4</td>\n      <td>0.2</td>\n      <td>Iris-setosa</td>\n    </tr>\n    <tr>\n      <th>2</th>\n      <td>3</td>\n      <td>4.7</td>\n      <td>3.2</td>\n      <td>1.3</td>\n      <td>0.2</td>\n      <td>Iris-setosa</td>\n    </tr>\n    <tr>\n      <th>3</th>\n      <td>4</td>\n      <td>4.6</td>\n      <td>3.1</td>\n      <td>1.5</td>\n      <td>0.2</td>\n      <td>Iris-setosa</td>\n    </tr>\n    <tr>\n      <th>4</th>\n      <td>5</td>\n      <td>5.0</td>\n      <td>3.6</td>\n      <td>1.4</td>\n      <td>0.2</td>\n      <td>Iris-setosa</td>\n    </tr>\n    <tr>\n      <th>...</th>\n      <td>...</td>\n      <td>...</td>\n      <td>...</td>\n      <td>...</td>\n      <td>...</td>\n      <td>...</td>\n    </tr>\n    <tr>\n      <th>145</th>\n      <td>146</td>\n      <td>6.7</td>\n      <td>3.0</td>\n      <td>5.2</td>\n      <td>2.3</td>\n      <td>Iris-virginica</td>\n    </tr>\n    <tr>\n      <th>146</th>\n      <td>147</td>\n      <td>6.3</td>\n      <td>2.5</td>\n      <td>5.0</td>\n      <td>1.9</td>\n      <td>Iris-virginica</td>\n    </tr>\n    <tr>\n      <th>147</th>\n      <td>148</td>\n      <td>6.5</td>\n      <td>3.0</td>\n      <td>5.2</td>\n      <td>2.0</td>\n      <td>Iris-virginica</td>\n    </tr>\n    <tr>\n      <th>148</th>\n      <td>149</td>\n      <td>6.2</td>\n      <td>3.4</td>\n      <td>5.4</td>\n      <td>2.3</td>\n      <td>Iris-virginica</td>\n    </tr>\n    <tr>\n      <th>149</th>\n      <td>150</td>\n      <td>5.9</td>\n      <td>3.0</td>\n      <td>5.1</td>\n      <td>1.8</td>\n      <td>Iris-virginica</td>\n    </tr>\n  </tbody>\n</table>\n<p>150 rows × 6 columns</p>\n</div>"
     },
     "execution_count": 3,
     "metadata": {},
     "output_type": "execute_result"
    }
   ],
   "source": [
    "data"
   ]
  },
  {
   "cell_type": "code",
   "execution_count": 4,
   "id": "6025eff1",
   "metadata": {
    "ExecuteTime": {
     "end_time": "2024-05-13T14:44:03.983808Z",
     "start_time": "2024-05-13T14:44:03.977654Z"
    }
   },
   "outputs": [
    {
     "data": {
      "text/plain": "Id                 int64\nSepalLengthCm    float64\nSepalWidthCm     float64\nPetalLengthCm    float64\nPetalWidthCm     float64\nSpecies           object\ndtype: object"
     },
     "execution_count": 4,
     "metadata": {},
     "output_type": "execute_result"
    }
   ],
   "source": [
    "data.dtypes"
   ]
  },
  {
   "cell_type": "code",
   "execution_count": 5,
   "id": "cfeac8e3",
   "metadata": {
    "ExecuteTime": {
     "end_time": "2024-05-13T14:44:04.000240Z",
     "start_time": "2024-05-13T14:44:03.986007Z"
    }
   },
   "outputs": [],
   "source": [
    "summary = data.groupby('Species')['SepalLengthCm'].describe() #summary nikalo pancho"
   ]
  },
  {
   "cell_type": "code",
   "execution_count": 6,
   "id": "4ce59277",
   "metadata": {
    "ExecuteTime": {
     "end_time": "2024-05-13T14:44:04.011157Z",
     "start_time": "2024-05-13T14:44:04.001343Z"
    }
   },
   "outputs": [
    {
     "data": {
      "text/plain": "                 count   mean       std  min    25%  50%  75%  max\nSpecies                                                           \nIris-setosa       50.0  5.006  0.352490  4.3  4.800  5.0  5.2  5.8\nIris-versicolor   50.0  5.936  0.516171  4.9  5.600  5.9  6.3  7.0\nIris-virginica    50.0  6.588  0.635880  4.9  6.225  6.5  6.9  7.9",
      "text/html": "<div>\n<style scoped>\n    .dataframe tbody tr th:only-of-type {\n        vertical-align: middle;\n    }\n\n    .dataframe tbody tr th {\n        vertical-align: top;\n    }\n\n    .dataframe thead th {\n        text-align: right;\n    }\n</style>\n<table border=\"1\" class=\"dataframe\">\n  <thead>\n    <tr style=\"text-align: right;\">\n      <th></th>\n      <th>count</th>\n      <th>mean</th>\n      <th>std</th>\n      <th>min</th>\n      <th>25%</th>\n      <th>50%</th>\n      <th>75%</th>\n      <th>max</th>\n    </tr>\n    <tr>\n      <th>Species</th>\n      <th></th>\n      <th></th>\n      <th></th>\n      <th></th>\n      <th></th>\n      <th></th>\n      <th></th>\n      <th></th>\n    </tr>\n  </thead>\n  <tbody>\n    <tr>\n      <th>Iris-setosa</th>\n      <td>50.0</td>\n      <td>5.006</td>\n      <td>0.352490</td>\n      <td>4.3</td>\n      <td>4.800</td>\n      <td>5.0</td>\n      <td>5.2</td>\n      <td>5.8</td>\n    </tr>\n    <tr>\n      <th>Iris-versicolor</th>\n      <td>50.0</td>\n      <td>5.936</td>\n      <td>0.516171</td>\n      <td>4.9</td>\n      <td>5.600</td>\n      <td>5.9</td>\n      <td>6.3</td>\n      <td>7.0</td>\n    </tr>\n    <tr>\n      <th>Iris-virginica</th>\n      <td>50.0</td>\n      <td>6.588</td>\n      <td>0.635880</td>\n      <td>4.9</td>\n      <td>6.225</td>\n      <td>6.5</td>\n      <td>6.9</td>\n      <td>7.9</td>\n    </tr>\n  </tbody>\n</table>\n</div>"
     },
     "execution_count": 6,
     "metadata": {},
     "output_type": "execute_result"
    }
   ],
   "source": [
    "summary"
   ]
  },
  {
   "cell_type": "code",
   "execution_count": 7,
   "id": "67add415",
   "metadata": {
    "ExecuteTime": {
     "end_time": "2024-05-13T14:44:04.018429Z",
     "start_time": "2024-05-13T14:44:04.013291Z"
    }
   },
   "outputs": [
    {
     "data": {
      "text/plain": "array(['Iris-setosa', 'Iris-versicolor', 'Iris-virginica'], dtype=object)"
     },
     "execution_count": 7,
     "metadata": {},
     "output_type": "execute_result"
    }
   ],
   "source": [
    "data['Species'].unique() #iske aage second part chalu hota hai"
   ]
  },
  {
   "cell_type": "code",
   "execution_count": 8,
   "id": "e4f34801",
   "metadata": {
    "ExecuteTime": {
     "end_time": "2024-05-13T14:44:04.025941Z",
     "start_time": "2024-05-13T14:44:04.019571Z"
    }
   },
   "outputs": [],
   "source": [
    "sertosa_data = data[data['Species'] == 'Iris-setosa']\n",
    "versicolor_data = data[data['Species'] == 'Iris-versicolor']\n",
    "virginica_data = data[data['Species'] == 'Iris-virginica']"
   ]
  },
  {
   "cell_type": "code",
   "execution_count": 9,
   "id": "adc64c66",
   "metadata": {
    "ExecuteTime": {
     "end_time": "2024-05-13T14:44:04.049370Z",
     "start_time": "2024-05-13T14:44:04.028102Z"
    }
   },
   "outputs": [
    {
     "data": {
      "text/plain": "             Id  SepalLengthCm  SepalWidthCm  PetalLengthCm  PetalWidthCm\ncount  50.00000       50.00000     50.000000      50.000000      50.00000\nmean   25.50000        5.00600      3.418000       1.464000       0.24400\nstd    14.57738        0.35249      0.381024       0.173511       0.10721\nmin     1.00000        4.30000      2.300000       1.000000       0.10000\n25%    13.25000        4.80000      3.125000       1.400000       0.20000\n50%    25.50000        5.00000      3.400000       1.500000       0.20000\n75%    37.75000        5.20000      3.675000       1.575000       0.30000\nmax    50.00000        5.80000      4.400000       1.900000       0.60000",
      "text/html": "<div>\n<style scoped>\n    .dataframe tbody tr th:only-of-type {\n        vertical-align: middle;\n    }\n\n    .dataframe tbody tr th {\n        vertical-align: top;\n    }\n\n    .dataframe thead th {\n        text-align: right;\n    }\n</style>\n<table border=\"1\" class=\"dataframe\">\n  <thead>\n    <tr style=\"text-align: right;\">\n      <th></th>\n      <th>Id</th>\n      <th>SepalLengthCm</th>\n      <th>SepalWidthCm</th>\n      <th>PetalLengthCm</th>\n      <th>PetalWidthCm</th>\n    </tr>\n  </thead>\n  <tbody>\n    <tr>\n      <th>count</th>\n      <td>50.00000</td>\n      <td>50.00000</td>\n      <td>50.000000</td>\n      <td>50.000000</td>\n      <td>50.00000</td>\n    </tr>\n    <tr>\n      <th>mean</th>\n      <td>25.50000</td>\n      <td>5.00600</td>\n      <td>3.418000</td>\n      <td>1.464000</td>\n      <td>0.24400</td>\n    </tr>\n    <tr>\n      <th>std</th>\n      <td>14.57738</td>\n      <td>0.35249</td>\n      <td>0.381024</td>\n      <td>0.173511</td>\n      <td>0.10721</td>\n    </tr>\n    <tr>\n      <th>min</th>\n      <td>1.00000</td>\n      <td>4.30000</td>\n      <td>2.300000</td>\n      <td>1.000000</td>\n      <td>0.10000</td>\n    </tr>\n    <tr>\n      <th>25%</th>\n      <td>13.25000</td>\n      <td>4.80000</td>\n      <td>3.125000</td>\n      <td>1.400000</td>\n      <td>0.20000</td>\n    </tr>\n    <tr>\n      <th>50%</th>\n      <td>25.50000</td>\n      <td>5.00000</td>\n      <td>3.400000</td>\n      <td>1.500000</td>\n      <td>0.20000</td>\n    </tr>\n    <tr>\n      <th>75%</th>\n      <td>37.75000</td>\n      <td>5.20000</td>\n      <td>3.675000</td>\n      <td>1.575000</td>\n      <td>0.30000</td>\n    </tr>\n    <tr>\n      <th>max</th>\n      <td>50.00000</td>\n      <td>5.80000</td>\n      <td>4.400000</td>\n      <td>1.900000</td>\n      <td>0.60000</td>\n    </tr>\n  </tbody>\n</table>\n</div>"
     },
     "execution_count": 9,
     "metadata": {},
     "output_type": "execute_result"
    }
   ],
   "source": [
    "sertosa_data.describe()"
   ]
  },
  {
   "cell_type": "code",
   "execution_count": 10,
   "id": "f9459125",
   "metadata": {
    "ExecuteTime": {
     "end_time": "2024-05-13T14:44:04.068142Z",
     "start_time": "2024-05-13T14:44:04.050124Z"
    }
   },
   "outputs": [
    {
     "data": {
      "text/plain": "              Id  SepalLengthCm  SepalWidthCm  PetalLengthCm  PetalWidthCm\ncount   50.00000      50.000000     50.000000      50.000000     50.000000\nmean    75.50000       5.936000      2.770000       4.260000      1.326000\nstd     14.57738       0.516171      0.313798       0.469911      0.197753\nmin     51.00000       4.900000      2.000000       3.000000      1.000000\n25%     63.25000       5.600000      2.525000       4.000000      1.200000\n50%     75.50000       5.900000      2.800000       4.350000      1.300000\n75%     87.75000       6.300000      3.000000       4.600000      1.500000\nmax    100.00000       7.000000      3.400000       5.100000      1.800000",
      "text/html": "<div>\n<style scoped>\n    .dataframe tbody tr th:only-of-type {\n        vertical-align: middle;\n    }\n\n    .dataframe tbody tr th {\n        vertical-align: top;\n    }\n\n    .dataframe thead th {\n        text-align: right;\n    }\n</style>\n<table border=\"1\" class=\"dataframe\">\n  <thead>\n    <tr style=\"text-align: right;\">\n      <th></th>\n      <th>Id</th>\n      <th>SepalLengthCm</th>\n      <th>SepalWidthCm</th>\n      <th>PetalLengthCm</th>\n      <th>PetalWidthCm</th>\n    </tr>\n  </thead>\n  <tbody>\n    <tr>\n      <th>count</th>\n      <td>50.00000</td>\n      <td>50.000000</td>\n      <td>50.000000</td>\n      <td>50.000000</td>\n      <td>50.000000</td>\n    </tr>\n    <tr>\n      <th>mean</th>\n      <td>75.50000</td>\n      <td>5.936000</td>\n      <td>2.770000</td>\n      <td>4.260000</td>\n      <td>1.326000</td>\n    </tr>\n    <tr>\n      <th>std</th>\n      <td>14.57738</td>\n      <td>0.516171</td>\n      <td>0.313798</td>\n      <td>0.469911</td>\n      <td>0.197753</td>\n    </tr>\n    <tr>\n      <th>min</th>\n      <td>51.00000</td>\n      <td>4.900000</td>\n      <td>2.000000</td>\n      <td>3.000000</td>\n      <td>1.000000</td>\n    </tr>\n    <tr>\n      <th>25%</th>\n      <td>63.25000</td>\n      <td>5.600000</td>\n      <td>2.525000</td>\n      <td>4.000000</td>\n      <td>1.200000</td>\n    </tr>\n    <tr>\n      <th>50%</th>\n      <td>75.50000</td>\n      <td>5.900000</td>\n      <td>2.800000</td>\n      <td>4.350000</td>\n      <td>1.300000</td>\n    </tr>\n    <tr>\n      <th>75%</th>\n      <td>87.75000</td>\n      <td>6.300000</td>\n      <td>3.000000</td>\n      <td>4.600000</td>\n      <td>1.500000</td>\n    </tr>\n    <tr>\n      <th>max</th>\n      <td>100.00000</td>\n      <td>7.000000</td>\n      <td>3.400000</td>\n      <td>5.100000</td>\n      <td>1.800000</td>\n    </tr>\n  </tbody>\n</table>\n</div>"
     },
     "execution_count": 10,
     "metadata": {},
     "output_type": "execute_result"
    }
   ],
   "source": [
    "versicolor_data.describe()"
   ]
  },
  {
   "cell_type": "code",
   "execution_count": 11,
   "id": "8fe8f25e",
   "metadata": {
    "ExecuteTime": {
     "end_time": "2024-05-13T14:44:04.083840Z",
     "start_time": "2024-05-13T14:44:04.069179Z"
    }
   },
   "outputs": [
    {
     "data": {
      "text/plain": "              Id  SepalLengthCm  SepalWidthCm  PetalLengthCm  PetalWidthCm\ncount   50.00000       50.00000     50.000000      50.000000      50.00000\nmean   125.50000        6.58800      2.974000       5.552000       2.02600\nstd     14.57738        0.63588      0.322497       0.551895       0.27465\nmin    101.00000        4.90000      2.200000       4.500000       1.40000\n25%    113.25000        6.22500      2.800000       5.100000       1.80000\n50%    125.50000        6.50000      3.000000       5.550000       2.00000\n75%    137.75000        6.90000      3.175000       5.875000       2.30000\nmax    150.00000        7.90000      3.800000       6.900000       2.50000",
      "text/html": "<div>\n<style scoped>\n    .dataframe tbody tr th:only-of-type {\n        vertical-align: middle;\n    }\n\n    .dataframe tbody tr th {\n        vertical-align: top;\n    }\n\n    .dataframe thead th {\n        text-align: right;\n    }\n</style>\n<table border=\"1\" class=\"dataframe\">\n  <thead>\n    <tr style=\"text-align: right;\">\n      <th></th>\n      <th>Id</th>\n      <th>SepalLengthCm</th>\n      <th>SepalWidthCm</th>\n      <th>PetalLengthCm</th>\n      <th>PetalWidthCm</th>\n    </tr>\n  </thead>\n  <tbody>\n    <tr>\n      <th>count</th>\n      <td>50.00000</td>\n      <td>50.00000</td>\n      <td>50.000000</td>\n      <td>50.000000</td>\n      <td>50.00000</td>\n    </tr>\n    <tr>\n      <th>mean</th>\n      <td>125.50000</td>\n      <td>6.58800</td>\n      <td>2.974000</td>\n      <td>5.552000</td>\n      <td>2.02600</td>\n    </tr>\n    <tr>\n      <th>std</th>\n      <td>14.57738</td>\n      <td>0.63588</td>\n      <td>0.322497</td>\n      <td>0.551895</td>\n      <td>0.27465</td>\n    </tr>\n    <tr>\n      <th>min</th>\n      <td>101.00000</td>\n      <td>4.90000</td>\n      <td>2.200000</td>\n      <td>4.500000</td>\n      <td>1.40000</td>\n    </tr>\n    <tr>\n      <th>25%</th>\n      <td>113.25000</td>\n      <td>6.22500</td>\n      <td>2.800000</td>\n      <td>5.100000</td>\n      <td>1.80000</td>\n    </tr>\n    <tr>\n      <th>50%</th>\n      <td>125.50000</td>\n      <td>6.50000</td>\n      <td>3.000000</td>\n      <td>5.550000</td>\n      <td>2.00000</td>\n    </tr>\n    <tr>\n      <th>75%</th>\n      <td>137.75000</td>\n      <td>6.90000</td>\n      <td>3.175000</td>\n      <td>5.875000</td>\n      <td>2.30000</td>\n    </tr>\n    <tr>\n      <th>max</th>\n      <td>150.00000</td>\n      <td>7.90000</td>\n      <td>3.800000</td>\n      <td>6.900000</td>\n      <td>2.50000</td>\n    </tr>\n  </tbody>\n</table>\n</div>"
     },
     "execution_count": 11,
     "metadata": {},
     "output_type": "execute_result"
    }
   ],
   "source": [
    "virginica_data.describe()"
   ]
  },
  {
   "cell_type": "code",
   "execution_count": 11,
   "id": "a5c96aa2",
   "metadata": {
    "ExecuteTime": {
     "end_time": "2024-05-13T14:44:04.087774Z",
     "start_time": "2024-05-13T14:44:04.084904Z"
    }
   },
   "outputs": [],
   "source": []
  }
 ],
 "metadata": {
  "kernelspec": {
   "display_name": "Python 3 (ipykernel)",
   "language": "python",
   "name": "python3"
  },
  "language_info": {
   "codemirror_mode": {
    "name": "ipython",
    "version": 3
   },
   "file_extension": ".py",
   "mimetype": "text/x-python",
   "name": "python",
   "nbconvert_exporter": "python",
   "pygments_lexer": "ipython3",
   "version": "3.11.7"
  }
 },
 "nbformat": 4,
 "nbformat_minor": 5
}
